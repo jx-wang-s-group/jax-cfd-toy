{
 "cells": [
  {
   "cell_type": "code",
   "execution_count": 1,
   "metadata": {},
   "outputs": [],
   "source": [
    "import jax\n",
    "import jax.numpy as np\n",
    "import matplotlib.pyplot as plt\n",
    "from functools import partial\n",
    "import numpy as np\n",
    "import scipy as sp"
   ]
  },
  {
   "cell_type": "code",
   "execution_count": 2,
   "metadata": {},
   "outputs": [],
   "source": [
    "# from jax import config\n",
    "# config.update(\"jax_enable_x64\", True)"
   ]
  },
  {
   "attachments": {},
   "cell_type": "markdown",
   "metadata": {},
   "source": [
    "## Constants"
   ]
  },
  {
   "cell_type": "code",
   "execution_count": 3,
   "metadata": {},
   "outputs": [],
   "source": [
    "L = 1.\n",
    "NX = NY = 512\n",
    "X_START = 0.\n",
    "X_END = L\n",
    "Y_START = 0.\n",
    "Y_END = L"
   ]
  },
  {
   "attachments": {},
   "cell_type": "markdown",
   "metadata": {},
   "source": [
    "## Space-Time Domain"
   ]
  },
  {
   "cell_type": "code",
   "execution_count": 4,
   "metadata": {},
   "outputs": [],
   "source": [
    "x = np.linspace(X_START, X_END, NX + 1)\n",
    "y = np.linspace(Y_START, Y_END, NY + 1)\n",
    "X, Y = np.meshgrid(x, y)"
   ]
  },
  {
   "cell_type": "code",
   "execution_count": 5,
   "metadata": {},
   "outputs": [],
   "source": [
    "dx = x[1] - x[0]\n",
    "dy = y[1] - y[0]"
   ]
  },
  {
   "cell_type": "code",
   "execution_count": 6,
   "metadata": {},
   "outputs": [],
   "source": [
    "a = 2./dx**2\n",
    "b = 2./dy**2\n",
    "c = -(a + b)"
   ]
  },
  {
   "attachments": {},
   "cell_type": "markdown",
   "metadata": {},
   "source": [
    "## Initial Conditions functions"
   ]
  },
  {
   "cell_type": "code",
   "execution_count": 7,
   "metadata": {},
   "outputs": [],
   "source": [
    "u = (lambda x, y: np.sin(2.*np.pi*x) * np.sin(2.*np.pi*y) + (1./16.**2) * np.sin(32.*np.pi*x) * np.sin(32.*np.pi*y))\n",
    "f = (lambda x, y: -8 * np.pi**2 * np.sin(2*np.pi*x) * np.sin(2*np.pi*y) - 8 * np.pi**2 * np.sin(32.*np.pi*x) * np.sin(32.*np.pi*y))"
   ]
  },
  {
   "attachments": {},
   "cell_type": "markdown",
   "metadata": {},
   "source": [
    "## Checking ()"
   ]
  },
  {
   "cell_type": "code",
   "execution_count": 8,
   "metadata": {},
   "outputs": [],
   "source": [
    "# d2udx2 = jax.vmap(jax.vmap(jax.grad(jax.grad(u, 0), 0), in_axes=(0, None)), in_axes=(None, 0))(x, y)\n",
    "# d2udy2 = jax.vmap(jax.vmap(jax.grad(jax.grad(u, 1), 1), in_axes=(0, None)), in_axes=(None, 0))(x, y)\n",
    "# np.all(d2udx2 + d2udy2 - f(X, Y) < 1e-4)"
   ]
  },
  {
   "attachments": {},
   "cell_type": "markdown",
   "metadata": {},
   "source": [
    "## Initial Conditons"
   ]
  },
  {
   "cell_type": "code",
   "execution_count": 9,
   "metadata": {},
   "outputs": [],
   "source": [
    "U = u(X, Y)\n",
    "F = f(X, Y)"
   ]
  },
  {
   "cell_type": "code",
   "execution_count": null,
   "metadata": {},
   "outputs": [],
   "source": [
    "np.save(\"F_numpy\", F)"
   ]
  },
  {
   "cell_type": "code",
   "execution_count": 10,
   "metadata": {},
   "outputs": [],
   "source": [
    "m_arr = np.empty(NX)\n",
    "for i in range(int(NX/2)):\n",
    "    m_arr[i] = i\n",
    "    m_arr[i + int(NX/2)] = i - int(NX/2)\n",
    "n_arr = m_arr"
   ]
  },
  {
   "cell_type": "code",
   "execution_count": 11,
   "metadata": {},
   "outputs": [],
   "source": [
    "u_tilda_den = lambda m, n: (a*np.cos(2.*np.pi*m/NX) + b*np.cos(2.*np.pi*n/NY) + c + np.finfo(float).eps)\n",
    "den = np.empty((NX, NY))\n",
    "for i, m_val in enumerate(m_arr):\n",
    "    for j, n_val in enumerate(n_arr):\n",
    "        den[i, j] = u_tilda_den(m_val,n_val)"
   ]
  },
  {
   "attachments": {},
   "cell_type": "markdown",
   "metadata": {},
   "source": [
    "## Direct Solver"
   ]
  },
  {
   "cell_type": "code",
   "execution_count": 12,
   "metadata": {},
   "outputs": [],
   "source": [
    "def poisson_fft_direct_solver(F, den):\n",
    "    F_tilda = sp.fft.fft2(F[:-1, :-1].astype(complex))        \n",
    "    U_tilda = F_tilda/ den\n",
    "    return np.real(sp.fft.ifft2(U_tilda))"
   ]
  },
  {
   "cell_type": "code",
   "execution_count": 13,
   "metadata": {},
   "outputs": [],
   "source": [
    "U_numerical = poisson_fft_direct_solver(F, den)"
   ]
  },
  {
   "cell_type": "code",
   "execution_count": 14,
   "metadata": {},
   "outputs": [],
   "source": [
    "U_final = np.zeros_like(U)\n",
    "U_final[:-1, :-1] = U_numerical\n",
    "U_final[-1,:-1] = U_numerical[0, :]\n",
    "U_final[:-1,-1] = U_numerical[:, 0]"
   ]
  },
  {
   "cell_type": "code",
   "execution_count": 15,
   "metadata": {},
   "outputs": [
    {
     "data": {
      "text/plain": [
       "<matplotlib.contour.QuadContourSet at 0x7f97742b29e0>"
      ]
     },
     "execution_count": 15,
     "metadata": {},
     "output_type": "execute_result"
    },
    {
     "data": {
      "image/png": "[encoded data removed]",
      "text/plain": [
       "<Figure size 640x480 with 2 Axes>"
      ]
     },
     "metadata": {},
     "output_type": "display_data"
    }
   ],
   "source": [
    "fig, axs = plt.subplots(2)\n",
    "axs[0].contourf(X, Y, U_final)\n",
    "axs[1].contourf(X, Y, U)"
   ]
  }
 ],
 "metadata": {
  "kernelspec": {
   "display_name": "jaxenv",
   "language": "python",
   "name": "python3"
  },
  "language_info": {
   "codemirror_mode": {
    "name": "ipython",
    "version": 3
   },
   "file_extension": ".py",
   "mimetype": "text/x-python",
   "name": "python",
   "nbconvert_exporter": "python",
   "pygments_lexer": "ipython3",
   "version": "3.10.9"
  },
  "orig_nbformat": 4
 },
 "nbformat": 4,
 "nbformat_minor": 2
}
