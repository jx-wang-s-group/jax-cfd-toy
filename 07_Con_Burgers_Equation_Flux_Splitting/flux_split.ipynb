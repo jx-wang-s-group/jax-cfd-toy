{
 "cells": [
  {
   "cell_type": "code",
   "execution_count": 1,
   "metadata": {},
   "outputs": [],
   "source": [
    "import jax\n",
    "import jax.numpy as jnp\n",
    "import matplotlib.pyplot as plt\n",
    "from functools import partial"
   ]
  },
  {
   "cell_type": "code",
   "execution_count": 2,
   "metadata": {},
   "outputs": [],
   "source": [
    "# from jax import config\n",
    "# config.update(\"jax_enable_x64\", True)"
   ]
  },
  {
   "attachments": {},
   "cell_type": "markdown",
   "metadata": {},
   "source": [
    "## Constants"
   ]
  },
  {
   "cell_type": "code",
   "execution_count": 3,
   "metadata": {},
   "outputs": [],
   "source": [
    "X_START = 0\n",
    "X_END = 1\n",
    "T_START = 0\n",
    "T_END = 0.25\n",
    "NX = 200\n",
    "NT = int((T_END - T_START)/0.0001)\n",
    "ALPHA = 1./jnp.pi**2"
   ]
  },
  {
   "attachments": {},
   "cell_type": "markdown",
   "metadata": {},
   "source": [
    "## Space-Time Domain"
   ]
  },
  {
   "cell_type": "code",
   "execution_count": 4,
   "metadata": {},
   "outputs": [],
   "source": [
    "x = jnp.linspace(X_START, X_END, NX)\n",
    "dx = x[1] - x[0]\n",
    "\n",
    "t = jnp.linspace(T_START, T_END, NT + 1)\n",
    "dt = t[1] - t[0]"
   ]
  },
  {
   "cell_type": "code",
   "execution_count": 5,
   "metadata": {},
   "outputs": [],
   "source": [
    "beta = dt/dx"
   ]
  },
  {
   "attachments": {},
   "cell_type": "markdown",
   "metadata": {},
   "source": [
    "## Initial Conditions"
   ]
  },
  {
   "cell_type": "code",
   "execution_count": 6,
   "metadata": {},
   "outputs": [],
   "source": [
    "u = jnp.sin(2. * jnp.pi * x)"
   ]
  },
  {
   "attachments": {},
   "cell_type": "markdown",
   "metadata": {},
   "source": [
    "## Helper Functions"
   ]
  },
  {
   "cell_type": "code",
   "execution_count": 7,
   "metadata": {},
   "outputs": [],
   "source": [
    "@jax.jit\n",
    "def nodal_flux(u):\n",
    "    return (u**2)/2.\n",
    "\n",
    "@jax.jit\n",
    "def flux_psplit(f_arr, umax, u):\n",
    "    return 0.5 * (f_arr + umax * u)\n",
    "\n",
    "@jax.jit\n",
    "def flux_msplit(f_arr, umax, u):\n",
    "    return 0.5 * (f_arr - umax * u) \n",
    "\n",
    "@partial(jax.jit, static_argnames=('NX',)) \n",
    "def max_u(u, NX, xsU):\n",
    "    \n",
    "    carry_init = 0\n",
    "   \n",
    "    def max_u_each_step(carry, x):\n",
    "        def case_0(carry, u):\n",
    "            temp = jnp.asarray((u[-2], u[-1], u[0], u[1], u[2]))\n",
    "            return carry + 1, jnp.max(jnp.absolute(temp), keepdims=False)\n",
    "        def case_1(carry, u):\n",
    "            temp = jnp.asarray((u[-1], u[0], u[1], u[2], u[3]))\n",
    "            return carry + 1, jnp.max(jnp.absolute(temp), keepdims=False)\n",
    "        def case_N_m_2(carry, u):\n",
    "            temp = jnp.asarray((u[NX-4], u[NX-3], u[NX-2], u[NX-1], u[0]))\n",
    "            return carry + 1, jnp.max(jnp.absolute(temp), keepdims=False)\n",
    "        def case_N_m_1(carry, u):\n",
    "            temp = jnp.asarray((u[NX-3], u[NX-2], u[NX-1], u[0], u[1]))\n",
    "            return carry + 1, jnp.max(jnp.absolute(temp), keepdims=False)\n",
    "        def normal(carry, u):\n",
    "            temp =  jax.lax.dynamic_slice_in_dim(u, carry - 2, 5)\n",
    "            return carry + 1, jnp.max(jnp.absolute(temp), keepdims=False)                     \n",
    "        return jax.lax.switch(x, (normal, case_0, case_1, case_N_m_2, case_N_m_1), carry, u)\n",
    "    \n",
    "    return jax.lax.scan(max_u_each_step, carry_init, xsU)"
   ]
  },
  {
   "cell_type": "code",
   "execution_count": 8,
   "metadata": {},
   "outputs": [],
   "source": [
    "# reconstructor for Left side\n",
    "@jax.jit\n",
    "def wcL(u_sliced, umax):\n",
    "    eps = 1e-6\n",
    "    \n",
    "    f = nodal_flux(u_sliced)\n",
    "    # umax = jax.lax.dynamic_index_in_dim(u_max_arr, carry)\n",
    "    v1, v2, v3, v4, v5 = flux_psplit(f, umax, u_sliced)\n",
    "    \n",
    "    s1 = (13. / 12.) * (v1 - 2. * v2 + v3)**2 + 0.25 * (v1 - 4. * v2 + 3. * v3)**2\n",
    "    s2 = (13. / 12.) * (v2 - 2. * v3 + v4)**2 + 0.25 * (v2 - v4)**2\n",
    "    s3 = (13. / 12.) * (v3 - 2. * v4 + v5)**2 + 0.25 * (3. * v3 - 4. * v4 + v5)**2\n",
    "    \n",
    "    c1 = 1e-1/(eps + s1)**2\n",
    "    c2 = 6e-1/(eps + s2)**2\n",
    "    c3 = 3e-1/(eps + s3)**2\n",
    "    \n",
    "    c_sum = c1 + c2 + c3\n",
    "    \n",
    "    w1 = c1/c_sum\n",
    "    w2 = c2/c_sum\n",
    "    w3 = c3/c_sum\n",
    "    \n",
    "    q1 = v1/3. - (7./6.) * v2 + (11./6.) * v3\n",
    "    q2 = -v2/6. + (5./6.) * v3 + v4/3.\n",
    "    q3 = v3/3. + (5./6.) * v4 - v5/6.\n",
    "    \n",
    "    return w1*q1 + w2*q2 + w3*q3 \n",
    "\n",
    "\n",
    "## reconstructor for the right side\n",
    "@jax.jit\n",
    "def wcR(u_sliced, umax):\n",
    "    eps = 1e-6\n",
    "    \n",
    "    f = nodal_flux(u_sliced)\n",
    "    # umax = max_u(u_sliced)\n",
    "    v1, v2, v3, v4, v5 = flux_msplit(f, umax, u_sliced)\n",
    "    \n",
    "    s1 = (13. / 12.) * (v1 - 2. * v2 + v3)**2 + 0.25 * (v1 - 4. * v2 + 3. * v3)**2\n",
    "    s2 = (13. / 12.) * (v2 - 2. * v3 + v4)**2 + 0.25 * (v2 - v4)**2\n",
    "    s3 = (13. / 12.) * (v3 - 2. * v4 + v5)**2 + 0.25 * (3. * v3 - 4. * v4 +  v5)**2\n",
    "    \n",
    "    c1 = 3e-1/(eps + s1)**2\n",
    "    c2 = 6e-1/(eps + s2)**2\n",
    "    c3 = 1e-1/(eps + s3)**2\n",
    "    \n",
    "    c_sum = c1 + c2 + c3\n",
    "    \n",
    "    w1 = c1/c_sum\n",
    "    w2 = c2/c_sum\n",
    "    w3 = c3/c_sum\n",
    "    \n",
    "    q1 = -v1/6. + (5./6.) * v2 +  v3/3.\n",
    "    q2 = v2/3. + (5./6.) * v3 -  v4/6.\n",
    "    q3 = (11./ 6.) * v3 - (7./6.) * v4 + v5/3.\n",
    "    \n",
    "    return w1*q1 + w2*q2 + w3*q3"
   ]
  },
  {
   "cell_type": "code",
   "execution_count": 9,
   "metadata": {},
   "outputs": [],
   "source": [
    "## calculating the reconstructed flux and filling it in an array\n",
    "@partial(jax.jit, static_argnames=('NX',))\n",
    "def wenoL(u, NX, xs, max_u_arr):\n",
    "    carry_init = -1\n",
    "    \n",
    "    def u_slices(carry, x):\n",
    "        def case_0_m_1(carry, u):\n",
    "            umax = jax.lax.dynamic_index_in_dim(max_u_arr, carry) \n",
    "            return carry + 1, wcL(jnp.asarray([u[-3], u[-2], u[-1], u[0], u[1]]), umax)\n",
    "        def case_0(carry, u): \n",
    "            umax = jax.lax.dynamic_index_in_dim(max_u_arr, carry)             \n",
    "            return carry + 1, wcL(jnp.asarray([u[-2], u[-1], u[0], u[1], u[2]]), umax)\n",
    "        def case_1(carry, u):\n",
    "            umax = jax.lax.dynamic_index_in_dim(max_u_arr, carry)             \n",
    "            return carry + 1, wcL(jnp.asarray([u[-1], u[0], u[1], u[2], u[3]]), umax)\n",
    "        def case_N_m_2(carry, u):\n",
    "            umax = jax.lax.dynamic_index_in_dim(max_u_arr, carry)             \n",
    "            return carry + 1, wcL(jnp.asarray([u[NX - 4], u[NX - 3], u[NX - 2], u[NX - 1], u[0]]), umax)\n",
    "        def case_N_m_1(carry, u):\n",
    "            umax = jax.lax.dynamic_index_in_dim(max_u_arr, carry)             \n",
    "            return carry + 1, wcL(jnp.asarray([u[NX - 3], u[NX - 2], u[NX - 1], u[0], u[1]]), umax)\n",
    "        def normal(carry, u):\n",
    "            umax = jax.lax.dynamic_index_in_dim(max_u_arr, carry)             \n",
    "            return carry + 1, wcL(jax.lax.dynamic_slice_in_dim(u, carry - 2, 5), umax)\n",
    "        return jax.lax.switch(x, (normal, case_0_m_1, case_0, case_1, case_N_m_2, case_N_m_1), carry, u)\n",
    "    \n",
    "    return jax.lax.scan(u_slices, init=carry_init, xs=xs)\n",
    "\n",
    "## calculating the reconstructed flux and filling it in an array\n",
    "@partial(jax.jit, static_argnames=('NX',))\n",
    "def wenoR(u, NX, xs, max_u_arr):\n",
    "    carry_init = -1\n",
    "    \n",
    "    def u_slices(carry, x):\n",
    "        def case_0_m_1(carry, u):\n",
    "            umax = jax.lax.dynamic_index_in_dim(max_u_arr, carry) \n",
    "            return carry + 1, wcR(jnp.asarray([u[-2], u[-1], u[0], u[1], u[2]]), umax)\n",
    "        def case_0(carry, u):\n",
    "            umax = jax.lax.dynamic_index_in_dim(max_u_arr, carry) \n",
    "            return carry + 1, wcR(jnp.asarray([u[-1], u[0], u[1], u[2], u[3]]), umax)\n",
    "        def case_N_m_3(carry, u):\n",
    "            umax = jax.lax.dynamic_index_in_dim(max_u_arr, carry) \n",
    "            return carry + 1, wcR(jnp.asarray([u[NX - 4], u[NX - 3], u[NX - 2], u[NX - 1],  u[0]]), umax)\n",
    "        def case_N_m_2(carry, u):\n",
    "            umax = jax.lax.dynamic_index_in_dim(max_u_arr, carry) \n",
    "            return carry + 1, wcR(jnp.asarray([u[NX - 3], u[NX - 2], u[NX - 1], u[0], u[1]]), umax)\n",
    "        def case_N_m_1(carry, u):\n",
    "            umax = jax.lax.dynamic_index_in_dim(max_u_arr, carry)             \n",
    "            return carry + 1, wcR(jnp.asarray([u[NX - 2], u[NX - 1], u[0], u[1], u[2]]), umax)\n",
    "        def normal(carry, u):\n",
    "            umax = jax.lax.dynamic_index_in_dim(max_u_arr, carry)             \n",
    "            return carry + 1, wcR(jax.lax.dynamic_slice_in_dim(u, carry - 1, 5), umax)\n",
    "        return jax.lax.switch(x, (normal, case_0_m_1, case_0, case_N_m_3, case_N_m_2, case_N_m_1), carry, u)\n",
    "    \n",
    "    return jax.lax.scan(u_slices, init=carry_init, xs=xs)"
   ]
  },
  {
   "cell_type": "code",
   "execution_count": 10,
   "metadata": {},
   "outputs": [],
   "source": [
    "@partial(jax.jit, static_argnames=('NX',))\n",
    "def rhs(u, NX, beta, xsL, xsR, xsU):\n",
    "    _, max_u_arr = max_u(u, NX, xsU)\n",
    "    _, uL = wenoL(u, NX, xsL, max_u_arr)\n",
    "    _, uR = wenoR(u, NX, xsR, max_u_arr)\n",
    "    \n",
    "    flux_L = -beta * (jax.lax.slice_in_dim(uL, 1, NX + 1) - jax.lax.slice_in_dim(uL, 0, NX))\n",
    "    flux_R = -beta * (jax.lax.slice_in_dim(uR, 1, NX + 1) - jax.lax.slice_in_dim(uR, 0, NX))\n",
    "    \n",
    "    return flux_L +  flux_R\n"
   ]
  },
  {
   "cell_type": "code",
   "execution_count": 11,
   "metadata": {},
   "outputs": [],
   "source": [
    "@partial(jax.jit, static_argnames=('NX', 'NT'))\n",
    "def weno5_num_loop(u, beta, NX, NT):\n",
    "    \n",
    "    xsL = jnp.zeros(NX + 1, dtype=jnp.int32)\n",
    "    xsL = xsL.at[jnp.asarray((0, 1, 2, NX - 1, NX))].set(jnp.arange(1, 6))\n",
    "    \n",
    "    xsR = jnp.zeros(NX + 1, dtype=jnp.int32)\n",
    "    xsR = xsR.at[jnp.asarray((0, 1, NX - 2, NX - 1, NX))].set(jnp.arange(1, 6))\n",
    "    \n",
    "    xsU = jnp.zeros(NX + 1, dtype=jnp.int32)\n",
    "    xsU = xsR.at[jnp.asarray((0, 1, NX - 2, NX - 1, NX))].set((4, 1, 2, 3, 4))\n",
    "    \n",
    "    def u_each_time_step(u_i, _):\n",
    "        ## RK3 time integration\n",
    "        u1, r = jnp.zeros(NX), jnp.zeros(NX)\n",
    "        \n",
    "        r = r.at[:].set(rhs(u_i, NX, beta, xsL, xsR, xsU))\n",
    "        u1 = u1.at[:].set(u_i + r)\n",
    "\n",
    "        r = r.at[:].set(rhs(u1, NX, beta, xsL, xsR, xsU))\n",
    "        u1 = u1.at[:].set(0.75*u_i + 0.25*(u1 + r))\n",
    "\n",
    "        r = r.at[:].set(rhs(u1, NX, beta, xsL, xsR, xsU))\n",
    "        u_i = u_i.at[:].set((1./3.)*u_i + (2./3.)*(u1 + r))\n",
    "        \n",
    "        return u_i, u_i\n",
    "    \n",
    "    return jax.lax.scan(u_each_time_step, u, None, NT)"
   ]
  },
  {
   "cell_type": "code",
   "execution_count": 12,
   "metadata": {},
   "outputs": [],
   "source": [
    "_, U = weno5_num_loop(u, beta, NX, NT)"
   ]
  },
  {
   "cell_type": "code",
   "execution_count": 13,
   "metadata": {},
   "outputs": [
    {
     "data": {
      "image/png": "[encoded data removed]",
      "text/plain": [
       "<Figure size 600x600 with 1 Axes>"
      ]
     },
     "metadata": {},
     "output_type": "display_data"
    }
   ],
   "source": [
    "plt.figure(figsize=(6,6))\n",
    "plt.xlabel(\"x\")\n",
    "plt.ylabel(\"u\")\n",
    "plt.xlim((0,1))\n",
    "plt.ylim((-3,3))\n",
    "#plt.title(\"Comparison of theoritical and numerical values @ t = 1\")\n",
    "for i in range(0, NT + 500, 500):    \n",
    "    plt.plot(x, U[i], label=f't={(i*dt):2.2f}')\n",
    "plt.legend()\n",
    "plt.show()"
   ]
  }
 ],
 "metadata": {
  "kernelspec": {
   "display_name": "jaxenv",
   "language": "python",
   "name": "python3"
  },
  "language_info": {
   "codemirror_mode": {
    "name": "ipython",
    "version": 3
   },
   "file_extension": ".py",
   "mimetype": "text/x-python",
   "name": "python",
   "nbconvert_exporter": "python",
   "pygments_lexer": "ipython3",
   "version": "3.10.9"
  },
  "orig_nbformat": 4
 },
 "nbformat": 4,
 "nbformat_minor": 2
}
