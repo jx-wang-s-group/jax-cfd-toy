{
 "cells": [
  {
   "cell_type": "code",
   "execution_count": 1,
   "metadata": {},
   "outputs": [],
   "source": [
    "import jax\n",
    "import jax.numpy as jnp\n",
    "import matplotlib.pyplot as plt\n",
    "from functools import partial\n",
    "from matplotlib import colormaps as cm"
   ]
  },
  {
   "cell_type": "code",
   "execution_count": 3,
   "metadata": {},
   "outputs": [],
   "source": [
    "sin = lambda x: jnp.sin(x)\n",
    "cos = lambda x: jnp.cos(x)\n",
    "pi = jnp.pi"
   ]
  },
  {
   "cell_type": "code",
   "execution_count": 4,
   "metadata": {},
   "outputs": [],
   "source": [
    "L = 2*pi\n",
    "NX = NY = 128\n",
    "X_START = 0.\n",
    "X_END = L\n",
    "Y_START = 0.\n",
    "Y_END = L\n",
    "T_START = 0.\n",
    "T_END = 20.\n",
    "dt = 1e-2\n",
    "NT = int((T_END - T_START)/dt)\n",
    "Re = 2e3"
   ]
  },
  {
   "cell_type": "markdown",
   "metadata": {},
   "source": [
    "## Space-Time Domain"
   ]
  },
  {
   "cell_type": "code",
   "execution_count": 24,
   "metadata": {},
   "outputs": [],
   "source": [
    "x = jnp.linspace(X_START, X_END, NX + 1)\n",
    "y = jnp.linspace(Y_START, Y_END, NY + 1)\n",
    "X, Y = jnp.meshgrid(x, y)"
   ]
  },
  {
   "cell_type": "code",
   "execution_count": 25,
   "metadata": {},
   "outputs": [],
   "source": [
    "t = jnp.linspace(T_START, T_END, NT + 1)"
   ]
  },
  {
   "cell_type": "code",
   "execution_count": 26,
   "metadata": {},
   "outputs": [],
   "source": [
    "dx = x[1] - x[0]\n",
    "dy = y[1] - y[0]"
   ]
  },
  {
   "cell_type": "code",
   "execution_count": 27,
   "metadata": {},
   "outputs": [],
   "source": [
    "hx = 2. * pi / ((NX) * dx)\n",
    "hy = 2. * pi / ((NY) * dy)"
   ]
  },
  {
   "cell_type": "markdown",
   "metadata": {},
   "source": [
    "## Initial Conditions"
   ]
  },
  {
   "cell_type": "code",
   "execution_count": 28,
   "metadata": {},
   "outputs": [],
   "source": [
    "@jax.jit\n",
    "def omega_init_func(i, j, x=x, y=y, pi=pi, exp=jnp.exp, xc1=0.75*pi, yc1=pi, xc2=1.25*pi, yc2=pi):\n",
    "    return exp(-pi*((x[i -1] - xc1)**2 + (y[j-1] - yc1)**2)) +\\\n",
    "           exp(-pi*((x[i -1] - xc2)**2 + (y[j-1] - yc2)**2))\n",
    "           \n",
    "oif_vmapped = jax.vmap(jax.vmap(omega_init_func, in_axes=(None, 0)), in_axes=(0, None))"
   ]
  },
  {
   "cell_type": "code",
   "execution_count": 29,
   "metadata": {},
   "outputs": [],
   "source": [
    "psi_init = jnp.empty((NX+2, NY+2))\n",
    "omega_init = jnp.empty((NX+2, NY+2))\n",
    "omega_init = omega_init.at[1:-1, 1:-1].set(oif_vmapped(jnp.arange(1, NX+1), jnp.arange(1, NY+1)))\n",
    "omega_init = omega_init.at[-1, :].set(omega_init[1, :])\n",
    "omega_init = omega_init.at[:, -1].set(omega_init[:, 1])\n",
    "omega_init = omega_init.at[0, :].set(omega_init[-2, :])\n",
    "omega_init = omega_init.at[:, 0].set(omega_init[:, -2])"
   ]
  },
  {
   "cell_type": "markdown",
   "metadata": {},
   "source": [
    "## Specifics of Spectral Poisson Solver"
   ]
  },
  {
   "cell_type": "code",
   "execution_count": 30,
   "metadata": {},
   "outputs": [],
   "source": [
    "m_arr = jnp.empty(NX)\n",
    "m_arr = m_arr.at[jnp.arange(0, int(NX/2))].set(hx * jnp.arange(0, int(NX/2))) \n",
    "m_arr = m_arr.at[jnp.arange(int(NX/2), NX)].set(hx * jnp.arange(-int(NX/2), 0))"
   ]
  },
  {
   "cell_type": "code",
   "execution_count": 31,
   "metadata": {},
   "outputs": [],
   "source": [
    "n_arr = jnp.empty(NY)\n",
    "n_arr = n_arr.at[jnp.arange(0, int(NY/2))].set(hy * jnp.arange(0, int(NY/2))) \n",
    "n_arr = n_arr.at[jnp.arange(int(NY/2), NY)].set(hy * jnp.arange(-int(NY/2), 0))"
   ]
  },
  {
   "cell_type": "code",
   "execution_count": 32,
   "metadata": {},
   "outputs": [],
   "source": [
    "psi_tilda = lambda m, n: -(m**2 + n**2)\n",
    "psi_den = jax.vmap(jax.vmap(psi_tilda, in_axes=(None, 0)), in_axes=(0, None))(m_arr, n_arr)\n",
    "psi_den = psi_den.at[0,0].set(jnp.finfo(float).eps)"
   ]
  },
  {
   "cell_type": "markdown",
   "metadata": {},
   "source": [
    "## Spectral Poisson Solver"
   ]
  },
  {
   "cell_type": "code",
   "execution_count": 33,
   "metadata": {},
   "outputs": [],
   "source": [
    "@jax.jit\n",
    "def spectral_preprocess(omega):\n",
    "    return -omega[1:-1, 1:-1].astype(complex)\n",
    "\n",
    "@jax.jit\n",
    "def spectral_poisson_solver(omega_preproc, den=psi_den):\n",
    "    omega_tilda = jnp.fft.fftn(omega_preproc)\n",
    "    omega_tilda = omega_tilda.at[0, 0].set(complex(0,0))\n",
    "    psi_tilda = omega_tilda/den\n",
    "    return jnp.real(jnp.fft.ifftn(psi_tilda))\n",
    "\n",
    "@jax.jit\n",
    "def periodic_bc(psi, psi_spectral):\n",
    "    output = jnp.zeros_like(psi)\n",
    "    output = output.at[1:-1, 1:-1].set(psi_spectral)\n",
    "    output = output.at[-1, :].set(output[1, :])\n",
    "    output = output.at[:, -1].set(output[:, 1])  \n",
    "    output = output.at[0, :].set(output[-2, :])\n",
    "    return  output.at[:, 0].set(output[:, -2])"
   ]
  },
  {
   "cell_type": "code",
   "execution_count": 34,
   "metadata": {},
   "outputs": [],
   "source": [
    "psi_init = psi_init.at[:,:].set(periodic_bc(psi_init, spectral_poisson_solver(spectral_preprocess(omega_init))))"
   ]
  },
  {
   "cell_type": "code",
   "execution_count": 35,
   "metadata": {},
   "outputs": [],
   "source": [
    "omega_psi_init = jnp.stack((omega_init, psi_init))"
   ]
  },
  {
   "cell_type": "markdown",
   "metadata": {},
   "source": [
    "## NS Solver"
   ]
  },
  {
   "cell_type": "code",
   "execution_count": 36,
   "metadata": {},
   "outputs": [],
   "source": [
    "@jax.jit\n",
    "def bound_cond(omega):\n",
    "    omega = omega.at[0, :].set(omega[-2, :])\n",
    "    omega = omega.at[:, 0].set(omega[:, -2])\n",
    "    omega = omega.at[-1, :].set(omega[1, :])\n",
    "    return omega.at[:, -1].set(omega[:, 1])"
   ]
  },
  {
   "cell_type": "code",
   "execution_count": 37,
   "metadata": {},
   "outputs": [],
   "source": [
    "# rhs of the naiver stokes equation (Arakawa numerical scheme for Jacobian)\n",
    "@jax.jit\n",
    "def ns_rhs(i, j, omega, psi, dx=dx, dy=dy, Re=Re):\n",
    "    \n",
    "    aa = 1./(Re*dx**2)\n",
    "    bb = 1./(Re*dy**2)\n",
    "    gg = 1./(4.*dx*dy)\n",
    "    hh = 1./3.\n",
    "    \n",
    "    j1 = gg*((omega[i+1,j] - omega[i-1,j])*(psi[i,j+1] - psi[i,j-1]) -\\\n",
    "             (omega[i,j+1] - omega[i,j-1])*(psi[i+1,j] - psi[i-1,j]))\n",
    "    \n",
    "    j2 = gg*((omega[i+1,j]*(psi[i+1, j+1] - psi[i+1, j-1])) -\\\n",
    "             (omega[i-1,j]*(psi[i-1, j+1] - psi[i-1, j-1])) -\\\n",
    "             (omega[i,j+1]*(psi[i+1, j+1] - psi[i-1, j+1])) +\\\n",
    "             (omega[i,j-1]*(psi[i+1, j-1] - psi[i-1, j-1])))\n",
    "    \n",
    "    j3 = gg*((omega[i+1,j+1]*(psi[i, j+1] - psi[i+1, j])) -\\\n",
    "             (omega[i-1,j-1]*(psi[i-1, j] - psi[i, j-1])) -\\\n",
    "             (omega[i-1,j+1]*(psi[i, j+1] - psi[i-1, j])) +\\\n",
    "             (omega[i+1,j-1]*(psi[i+1, j] - psi[i, j-1])))\n",
    "    \n",
    "    jac = (j1+j2+j3)*hh\n",
    "    \n",
    "    return -jac + aa*(omega[i+1,j] - 2.*omega[i,j] + omega[i-1, j]) +\\\n",
    "                  bb*(omega[i,j+1] - 2.*omega[i,j] + omega[i, j-1])\n",
    "\n",
    "@jax.jit                 \n",
    "def rhs_processed(omega, psi, index_x=jnp.arange(1, NX+1), index_y=jnp.arange(1, NY+1)):\n",
    "       ns_rhs_spec = lambda i, j: ns_rhs(i, j, omega=omega, psi=psi)\n",
    "       ns_rhs_spec_vmapped = jax.vmap(jax.vmap(ns_rhs_spec, in_axes=(None, 0)), in_axes=(0, None))\n",
    "       \n",
    "       rhs = jnp.zeros_like(omega)\n",
    "       return rhs.at[1:-1, 1:-1].set(ns_rhs_spec_vmapped(index_x, index_y))"
   ]
  },
  {
   "cell_type": "code",
   "execution_count": 38,
   "metadata": {},
   "outputs": [],
   "source": [
    "# Time integration: RK-3 and Space-discretization: 2nd order finite difference\n",
    "def solver_one_step(iter, omega_psi, dt=dt):\n",
    "    omega, psi = omega_psi\n",
    "    omega_temp = jnp.empty_like(omega)\n",
    "    \n",
    "    rhs = rhs_processed(omega, psi)\n",
    "    omega_temp = omega_temp.at[1:-1, 1:-1].set(omega[1:-1, 1:-1] + dt*rhs[1:-1, 1:-1]) # first step RK\n",
    "    omega_temp = omega_temp.at[:, :].set(bound_cond(omega_temp)) # update boundary\n",
    "    omega_temp_comp = spectral_preprocess(omega_temp)\n",
    "    psi = psi.at[:, :].set(periodic_bc(psi, spectral_poisson_solver(omega_temp_comp))) # solve for psi\n",
    "    \n",
    "    rhs = rhs.at[:, :].set(rhs_processed(omega_temp, psi))\n",
    "    omega_temp = omega_temp.at[1:-1, 1:-1].set(0.75*omega[1:-1, 1:-1] +\\\n",
    "                                               0.25*(omega_temp[1:-1, 1:-1]+ dt*rhs[1:-1, 1:-1])) # second step RK\n",
    "    omega_temp = omega_temp.at[:, :].set(bound_cond(omega_temp)) # update boundary\n",
    "    omega_temp_comp = omega_temp_comp.at[:,:].set(spectral_preprocess(omega_temp))\n",
    "    psi = psi.at[:, :].set(periodic_bc(psi, spectral_poisson_solver(omega_temp_comp))) # solve for psi\n",
    "    \n",
    "    rhs = rhs.at[:, :].set(rhs_processed(omega_temp, psi))\n",
    "    omega_temp = omega_temp.at[1:-1, 1:-1].set((1/3)*omega[1:-1, 1:-1] +\\\n",
    "                                               (2/3)*(omega_temp[1:-1, 1:-1]+ dt*rhs[1:-1, 1:-1])) # third step RK\n",
    "    omega_temp = omega_temp.at[:, :].set(bound_cond(omega_temp)) # update boundary\n",
    "    omega_temp_comp = omega_temp_comp.at[:,:].set(spectral_preprocess(omega_temp))\n",
    "    psi = psi.at[:, :].set(periodic_bc(psi, spectral_poisson_solver(omega_temp_comp))) # solve for psi\n",
    "    \n",
    "    return jnp.stack((omega_temp, psi))  \n",
    "    \n",
    "num_solver = lambda omega_psi, NT: jax.lax.fori_loop(0, NT, solver_one_step, omega_psi)"
   ]
  },
  {
   "cell_type": "code",
   "execution_count": 39,
   "metadata": {},
   "outputs": [],
   "source": [
    "final_omega,final_psi = num_solver(omega_psi_init, NT)"
   ]
  },
  {
   "cell_type": "code",
   "execution_count": 46,
   "metadata": {},
   "outputs": [
    {
     "data": {
      "image/png": "[encoded data removed]",
      "text/plain": [
       "<Figure size 2000x600 with 3 Axes>"
      ]
     },
     "metadata": {},
     "output_type": "display_data"
    }
   ],
   "source": [
    "fig, axs = plt.subplots(1,2, figsize=(20, 6))\n",
    "vorticity = axs[1].contourf(Y, X, final_omega[1:,1:], 50, cmap=cm.get_cmap('GnBu'))\n",
    "vorticity_init = axs[0].contourf(Y, X, omega_init[1:,1:], 50, cmap=cm.get_cmap('GnBu'))\n",
    "\n",
    "fig.subplots_adjust(right=0.8)\n",
    "init = fig.colorbar(vorticity_init, ax=axs.ravel().tolist())\n",
    "init.set_ticks(jnp.linspace(0,1,11).tolist())\n",
    "plt.show()"
   ]
  }
 ],
 "metadata": {
  "kernelspec": {
   "display_name": "jaxenv",
   "language": "python",
   "name": "python3"
  },
  "language_info": {
   "codemirror_mode": {
    "name": "ipython",
    "version": 3
   },
   "file_extension": ".py",
   "mimetype": "text/x-python",
   "name": "python",
   "nbconvert_exporter": "python",
   "pygments_lexer": "ipython3",
   "version": "3.10.9"
  },
  "orig_nbformat": 4
 },
 "nbformat": 4,
 "nbformat_minor": 2
}
