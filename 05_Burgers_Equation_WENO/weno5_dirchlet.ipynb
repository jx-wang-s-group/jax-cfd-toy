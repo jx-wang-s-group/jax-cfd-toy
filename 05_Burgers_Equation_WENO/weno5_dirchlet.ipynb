{
 "cells": [
  {
   "cell_type": "code",
   "execution_count": 30,
   "metadata": {},
   "outputs": [],
   "source": [
    "import jax\n",
    "import jax.numpy as jnp\n",
    "import matplotlib.pyplot as plt\n",
    "from functools import partial"
   ]
  },
  {
   "cell_type": "code",
   "execution_count": 31,
   "metadata": {},
   "outputs": [],
   "source": [
    "# from jax import config\n",
    "# config.update(\"jax_enable_x64\", True)"
   ]
  },
  {
   "attachments": {},
   "cell_type": "markdown",
   "metadata": {},
   "source": [
    "## Markdown"
   ]
  },
  {
   "cell_type": "code",
   "execution_count": 32,
   "metadata": {},
   "outputs": [],
   "source": [
    "X_START = 0\n",
    "X_END = 1\n",
    "T_START = 0\n",
    "T_END = 0.25\n",
    "NX = 200\n",
    "NT = int((T_END - T_START)/0.0001)\n",
    "ALPHA = 1./jnp.pi**2"
   ]
  },
  {
   "attachments": {},
   "cell_type": "markdown",
   "metadata": {},
   "source": [
    "## Space-Time Domain"
   ]
  },
  {
   "cell_type": "code",
   "execution_count": 33,
   "metadata": {},
   "outputs": [],
   "source": [
    "x = jnp.linspace(X_START, X_END, NX + 1)\n",
    "dx = x[1] - x[0]\n",
    "\n",
    "t = jnp.linspace(T_START, T_END, NT + 1)\n",
    "dt = t[1] - t[0]"
   ]
  },
  {
   "cell_type": "code",
   "execution_count": 34,
   "metadata": {},
   "outputs": [],
   "source": [
    "beta = dt / dx"
   ]
  },
  {
   "attachments": {},
   "cell_type": "markdown",
   "metadata": {},
   "source": [
    "## Intial Conditions"
   ]
  },
  {
   "cell_type": "code",
   "execution_count": 35,
   "metadata": {},
   "outputs": [],
   "source": [
    "u = jnp.sin(2. * jnp.pi * x)"
   ]
  },
  {
   "attachments": {},
   "cell_type": "markdown",
   "metadata": {},
   "source": [
    "## Main function"
   ]
  },
  {
   "cell_type": "code",
   "execution_count": 36,
   "metadata": {},
   "outputs": [],
   "source": [
    "# reconstructor for Left side\n",
    "@jax.jit\n",
    "def wcL(u_sliced):\n",
    "    eps = 1e-6\n",
    "    v1, v2, v3, v4, v5 = u_sliced\n",
    "    \n",
    "    s1 = (13. / 12.) * (v1 - 2. * v2 + v3)**2 + 0.25 * (v1 - 4. * v2 + 3. * v3)**2\n",
    "    s2 = (13. / 12.) * (v2 - 2. * v3 + v4)**2 + 0.25 * (v2 - v4)**2\n",
    "    s3 = (13. / 12.) * (v3 - 2. * v4 + v5)**2 + 0.25 * (3. * v3 - 4. * v4 + v5)**2\n",
    "    \n",
    "    c1 = 1e-1/(eps + s1)**2\n",
    "    c2 = 6e-1/(eps + s2)**2\n",
    "    c3 = 3e-1/(eps + s3)**2\n",
    "    \n",
    "    c_sum = c1 + c2 + c3\n",
    "    \n",
    "    w1 = c1/c_sum\n",
    "    w2 = c2/c_sum\n",
    "    w3 = c3/c_sum\n",
    "    \n",
    "    q1 = v1/3. - (7./6.) * v2 + (11./6.) * v3\n",
    "    q2 = -v2/6. + (5./6.) * v3 + v4/3.\n",
    "    q3 = v3/3. + (5./6.) * v4 - v5/6.\n",
    "    \n",
    "    return w1*q1 + w2*q2 + w3*q3\n",
    "\n",
    "\n",
    "## reconstructor for the right side\n",
    "@jax.jit\n",
    "def wcR(u_sliced):\n",
    "    eps = 1e-6\n",
    "    v1, v2, v3, v4, v5 = u_sliced\n",
    "    \n",
    "    s1 = (13. / 12.) * (v1 - 2. * v2 + v3)**2 + 0.25 * (v1 - 4. * v2 + 3. * v3)**2\n",
    "    s2 = (13. / 12.) * (v2 - 2. * v3 + v4)**2 + 0.25 * (v2 - v4)**2\n",
    "    s3 = (13. / 12.) * (v3 - 2. * v4 + v5)**2 + 0.25 * (3. * v3 - 4. * v4 +  v5)**2\n",
    "    \n",
    "    c1 = 3e-1/(eps + s1)**2\n",
    "    c2 = 6e-1/(eps + s2)**2\n",
    "    c3 = 1e-1/(eps + s3)**2\n",
    "    \n",
    "    c_sum = c1 + c2 + c3\n",
    "    \n",
    "    w1 = c1/c_sum\n",
    "    w2 = c2/c_sum\n",
    "    w3 = c3/c_sum\n",
    "    \n",
    "    q1 = -v1/6. + (5./6.) * v2 +  v3/3.\n",
    "    q2 = v2/3. + (5./6.) * v3 -  v4/6.\n",
    "    q3 = (11./ 6.) * v3 - (7./6.) * v4 + v5/3.\n",
    "    \n",
    "    return w1*q1 + w2*q2 + w3*q3\n",
    "\n",
    "## calculating the reconstructed flux and filling it in an array\n",
    "@partial(jax.jit, static_argnames=('NX',))\n",
    "def wenoL(u, NX, xs):\n",
    "    carry_init = 0\n",
    "    \n",
    "    def u_slices(carry, x):\n",
    "        def case_1(carry, u): \n",
    "            return carry + 1, wcL(jnp.asarray([3.0*u[0] - 2.*u[1], 2.0*u[0] - u[1], u[0], u[1], u[2]]))\n",
    "        def case_2(carry, u):\n",
    "            return carry + 1, wcL(jnp.asarray([2.0*u[0] - u[1], u[0], u[1], u[2], u[3]]))\n",
    "        def case_N(carry, u):\n",
    "            return carry + 1, wcL(jnp.asarray([u[NX - 3], u[NX -2], u[NX - 1], u[NX], 2.0*u[NX] - u[NX - 1]]))\n",
    "        def normal(carry, u):\n",
    "            return carry + 1, wcL(jax.lax.dynamic_slice_in_dim(u, carry - 2, 5))\n",
    "        return jax.lax.switch(x, (normal, case_1, case_2, case_N), carry, u)\n",
    "    \n",
    "    return jax.lax.scan(u_slices, init=carry_init, xs=xs)\n",
    "\n",
    "## calculating the reconstructed flux and filling it in an array\n",
    "@partial(jax.jit, static_argnames=('NX',))\n",
    "def wenoR(u, NX, xs):\n",
    "    carry_init = 0\n",
    "    \n",
    "    def u_slices(carry, x):\n",
    "        def case_1(carry, u):\n",
    "            return carry + 1, wcR(jnp.asarray([2.0*u[0] - u[1], u[0], u[1], u[2], u[3]]))\n",
    "        def case_N(carry, u):\n",
    "            return carry + 1, wcR(jnp.asarray([u[NX - 3], u[NX - 2], u[NX - 1], u[NX], 2.0*u[NX] - u[NX - 1]]))\n",
    "        def case_N_p_1(carry, u):\n",
    "            return carry + 1, wcR(jnp.asarray([u[NX - 2], u[NX - 1], u[NX], 2.0*u[NX] - u[NX - 1], 3.0*u[NX] - 2.0*u[NX - 1]]))\n",
    "        def normal(carry, u):\n",
    "            return carry + 1, wcR(jax.lax.dynamic_slice_in_dim(u, carry - 1, 5))\n",
    "        return jax.lax.switch(x, (normal, case_1, case_N, case_N_p_1), carry, u)\n",
    "    \n",
    "    return jax.lax.scan(u_slices, init=carry_init, xs=xs)"
   ]
  },
  {
   "cell_type": "code",
   "execution_count": 37,
   "metadata": {},
   "outputs": [],
   "source": [
    "@partial(jax.jit, static_argnames=('NX',))\n",
    "def rhs(u, NX, beta, xsL, xsR):\n",
    "    _, uL = wenoL(u, NX, xsL)\n",
    "    _, uR = wenoR(u, NX, xsR)\n",
    "    \n",
    "    flux_L = -beta * jax.lax.slice_in_dim(u, 1, NX) * (jax.lax.slice_in_dim(uL, 1, NX) - jax.lax.slice_in_dim(uL, 0, NX - 1))\n",
    "    flux_R = -beta * jax.lax.slice_in_dim(u, 1, NX) * (jax.lax.slice_in_dim(uR, 1, NX) - jax.lax.slice_in_dim(uR, 0, NX - 1))\n",
    "    \n",
    "    def flux_L_at_each_step(_, u_i):\n",
    "        def select_L(_): return 0. , 1.\n",
    "        def not_select_L(_): return 0. , 0.\n",
    "        \n",
    "        return jax.lax.cond(u_i >= 0.0, select_L, not_select_L, _)\n",
    "    \n",
    "    _, choose_flux_L = jax.lax.scan(flux_L_at_each_step, 0., u[1:NX]) \n",
    "    choose_flux_R = 1. - choose_flux_L\n",
    "    \n",
    "    return choose_flux_L * flux_L + choose_flux_R * flux_R\n",
    "\n",
    "## Works, but slow as shit because of squeeze\n",
    "    # _, uL = wenoL(u, NX)\n",
    "    # _, uR = wenoR(u, NX)\n",
    "    # carry_init = 0\n",
    "    \n",
    "    # def flux_each_step(carry, u_i):\n",
    "        \n",
    "    #     def flux_calc_L(carry, uL, uR):\n",
    "    #         return carry + 1, -beta * u_i * (jax.lax.dynamic_index_in_dim(uL, carry + 1, keepdims=False) - jax.lax.dynamic_index_in_dim(uL, carry, keepdims=False))\n",
    "        \n",
    "    #     def flux_calc_R(carry, uL, uR):\n",
    "    #         return carry + 1, -beta * u_i * (jax.lax.dynamic_index_in_dim(uR, carry + 1, keepdims=False) - jax.lax.dynamic_index_in_dim(uR, carry, keepdims=False))\n",
    "        \n",
    "    #     return jax.lax.cond(u_i >= 0.0, flux_calc_L, flux_calc_R, carry, uL, uR)    \n",
    "    \n",
    "    # _, rhs_val = jax.lax.scan(flux_each_step, carry_init, u[1:NX])\n",
    "    # return rhs_val\n"
   ]
  },
  {
   "cell_type": "code",
   "execution_count": 38,
   "metadata": {},
   "outputs": [],
   "source": [
    "@partial(jax.jit, static_argnames=('NX', 'NT'))\n",
    "def weno5_num_loop(u, beta, NX, NT):\n",
    "    \n",
    "    xsL = jnp.zeros(NX, dtype=jnp.int32)\n",
    "    xsL = xsL.at[jnp.asarray((0, 1, NX - 1))].set((1, 2, 3))\n",
    "    \n",
    "    xsR = jnp.zeros(NX, dtype=jnp.int32)\n",
    "    xsR = xsR.at[jnp.asarray((0, NX - 2, NX - 1))].set((1, 2, 3))\n",
    "    \n",
    "    bc = jnp.asarray((0, -1))\n",
    "\n",
    "    def u_each_time_step(u_i, _):\n",
    "        ## RK3 time integration\n",
    "        slice_x_1 = jax.lax.slice_in_dim(u_i, 1, NX)\n",
    "        u1 = jnp.zeros(NX + 1)\n",
    "        \n",
    "        r = rhs(u_i, NX, beta, xsL, xsR)\n",
    "        u1 = u1.at[1:NX].set(slice_x_1 + r)\n",
    "\n",
    "        r = r.at[:].set(rhs(u1, NX, beta,  xsL, xsR))\n",
    "        u1 = u1.at[1:NX].set(0.75*slice_x_1 + 0.25*(jax.lax.slice_in_dim(u1, 1, NX) + r))\n",
    "\n",
    "        r = r.at[:].set(rhs(u1, NX, beta,  xsL, xsR))\n",
    "        u_i = u_i.at[1:NX].set((1./3.)*slice_x_1 + (2./3.)*(jax.lax.slice_in_dim(u1, 1, NX) + r))\n",
    "        #u_i = u_i.at[bc].set(0)\n",
    "        \n",
    "        return u_i, u_i\n",
    "    \n",
    "    return jax.lax.scan(u_each_time_step, u, None, NT)\n",
    "    "
   ]
  },
  {
   "cell_type": "code",
   "execution_count": 39,
   "metadata": {},
   "outputs": [],
   "source": [
    "_, U = weno5_num_loop(u, beta, NX, NT)"
   ]
  },
  {
   "cell_type": "code",
   "execution_count": 40,
   "metadata": {},
   "outputs": [
    {
     "data": {
      "image/png": "[encoded data removed]",
      "text/plain": [
       "<Figure size 600x600 with 1 Axes>"
      ]
     },
     "metadata": {},
     "output_type": "display_data"
    }
   ],
   "source": [
    "plt.figure(figsize=(6,6))\n",
    "plt.xlabel(\"x\")\n",
    "plt.ylabel(\"u\")\n",
    "plt.xlim((0,1))\n",
    "plt.ylim((-3,3))\n",
    "#plt.title(\"Comparison of theoritical and numerical values @ t = 1\")\n",
    "for i in range(0, NT, 500):    \n",
    "    plt.plot(x, U[i], label=f't={(i*dt):2.2f}')\n",
    "plt.legend()\n",
    "plt.show()"
   ]
  },
  {
   "cell_type": "code",
   "execution_count": null,
   "metadata": {},
   "outputs": [],
   "source": []
  }
 ],
 "metadata": {
  "kernelspec": {
   "display_name": "jaxenv",
   "language": "python",
   "name": "python3"
  },
  "language_info": {
   "codemirror_mode": {
    "name": "ipython",
    "version": 3
   },
   "file_extension": ".py",
   "mimetype": "text/x-python",
   "name": "python",
   "nbconvert_exporter": "python",
   "pygments_lexer": "ipython3",
   "version": "3.10.9"
  },
  "orig_nbformat": 4
 },
 "nbformat": 4,
 "nbformat_minor": 2
}
