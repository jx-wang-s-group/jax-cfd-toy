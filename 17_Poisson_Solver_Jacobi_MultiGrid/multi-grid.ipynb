{
 "cells": [
  {
   "cell_type": "code",
   "execution_count": 1,
   "metadata": {},
   "outputs": [],
   "source": [
    "import jax\n",
    "import jax.numpy as jnp\n",
    "import matplotlib.pyplot as plt\n",
    "from functools import partial"
   ]
  },
  {
   "cell_type": "code",
   "execution_count": 2,
   "metadata": {},
   "outputs": [],
   "source": [
    "# from jax import config\n",
    "# config.update(\"jax_enable_x64\", True)"
   ]
  },
  {
   "cell_type": "code",
   "execution_count": 3,
   "metadata": {},
   "outputs": [],
   "source": [
    "L = 1.\n",
    "NX = NY = 128\n",
    "X_START = 0.\n",
    "X_END = L\n",
    "Y_START = 0.\n",
    "Y_END = L\n",
    "TOL = 1e-2"
   ]
  },
  {
   "cell_type": "code",
   "execution_count": 4,
   "metadata": {},
   "outputs": [],
   "source": [
    "x = jnp.linspace(X_START, X_END, NX + 1)\n",
    "y = jnp.linspace(Y_START, Y_END, NY + 1)\n",
    "X, Y = jnp.meshgrid(x, y)"
   ]
  },
  {
   "cell_type": "code",
   "execution_count": 5,
   "metadata": {},
   "outputs": [],
   "source": [
    "dx = x[1] - x[0]\n",
    "dy = y[1] - y[0]"
   ]
  },
  {
   "cell_type": "code",
   "execution_count": 6,
   "metadata": {},
   "outputs": [],
   "source": [
    "d = -2 * (1/dx**2 + 1/dy**2)"
   ]
  },
  {
   "cell_type": "code",
   "execution_count": 7,
   "metadata": {},
   "outputs": [],
   "source": [
    "u = lambda x, y: (x**2 - 1.)*(y**2 - 1.)\n",
    "f = lambda x, y: -2.*(2. - x**2 - y**2)"
   ]
  },
  {
   "cell_type": "code",
   "execution_count": 8,
   "metadata": {},
   "outputs": [],
   "source": [
    "U = u(X, Y)\n",
    "F = f(X, Y)"
   ]
  },
  {
   "cell_type": "code",
   "execution_count": 39,
   "metadata": {},
   "outputs": [],
   "source": [
    "u_init = U.at[1:-1, 1:-1].set(0)\n",
    "index_arr_bc_64 = index_arr_bc_64_prolong = jnp.arange((NX+1)/2, dtype=jnp.int32)\n",
    "index_arr_int_64 = jnp.arange(1, NX/2, dtype=jnp.int32)\n",
    "index_arr_int_64_prolong = jnp.arange(NX/2, dtype=jnp.int32)\n",
    "index_arr_int_128 = jnp.arange(1, NX, dtype=jnp.int32)\n",
    "index_arr_128_ravel_start, index_arr_128_ravel_end = (jnp.arange((NX+1) * (NX+1)).reshape(NX+1,NX+1))[1,0],\\\n",
    "                                                     (jnp.arange((NX+1) * (NX+1)).reshape(NX+1,NX+1))[-2,-1]\n",
    "index_arr_64_ravel_start, index_arr_64_ravel_end = (jnp.arange((NX+2)/2 * (NX+2)/2, dtype=jnp.int32).reshape(int((NX+2)/2),int((NX+2)/2)))[1,0],\\\n",
    "                                                   (jnp.arange((NX+2)/2 * (NX+2)/2, dtype=jnp.int32).reshape(int((NX+2)/2),int((NX+2)/2)))[-2,-1]\n",
    "mesh_grid_nums = ((129, 129), (65, 65))\n",
    "mesh_grid_sizes = ((dx, dy),(2*dx, 2*dy))\n",
    "total_iter_list = (2, 2, 2)\n",
    "index_128_ign = NX + (NX+1)*jnp.arange(1, NX)\n",
    "index_64_ign = int(NX/2) + int(NX/2+1)*jnp.arange(1, NX/2, dtype=jnp.int32)"
   ]
  },
  {
   "cell_type": "code",
   "execution_count": 10,
   "metadata": {},
   "outputs": [],
   "source": [
    "# @jax.jit\n",
    "# def jacobi(u, f, index_i, index_j, dx, dy, d):\n",
    "#     u_ijm1, u_ij, u_ijp1, u_im1j, _,  u_ip1j = jnp.hstack((jnp.squeeze(jax.lax.dynamic_slice(u, (index_i, index_j - 1), (1,3))), jnp.squeeze(jax.lax.dynamic_slice(u, (index_i - 1, index_j), (3,1)))))\n",
    "#     r_ij = f[index_i, index_j] - ((u_ijp1 - 2.*u_ij + u_ijm1)/dx**2) - ((u_ip1j - 2.*u_ij + u_im1j)/dy**2)\n",
    "#     return u_ij + r_ij/d\n",
    "\n",
    "@jax.jit\n",
    "def jacobi_res(u, f, index_i, index_j, dx, dy):\n",
    "    u_ijm1, u_ij, u_ijp1, u_im1j, _,  u_ip1j = jnp.hstack((jnp.squeeze(jax.lax.dynamic_slice(u, (index_i, index_j - 1), (1,3))), jnp.squeeze(jax.lax.dynamic_slice(u, (index_i - 1, index_j), (3,1)))))\n",
    "    return f[index_i, index_j] - ((u_ijp1 - 2.*u_ij + u_ijm1)/dx**2) - ((u_ip1j - 2.*u_ij + u_im1j)/dy**2)\n",
    "\n",
    "@jax.jit\n",
    "def node_select(index, u, f, row_size, index_ign, dx, dy, d):\n",
    "    \n",
    "    def node_compute(index, u, f=f, row_size=row_size, dx=dx, dy=dy, d=d):\n",
    "        u_ijm1, u_ij, u_ijp1, u_im1j, u_ip1j = jnp.hstack((jax.lax.dynamic_slice_in_dim(u, index - 1, 3),\\\n",
    "                                               jax.lax.dynamic_index_in_dim(u, index - row_size),\\\n",
    "                                              jax.lax.dynamic_index_in_dim(u, index + row_size)))\n",
    "        r = f[index] -\\\n",
    "            ((u_ijp1 - 2*u_ij + u_ijm1)/dx**2) - ((u_ip1j - 2*u_ij + u_im1j)/dy**2)\n",
    "        return u.at[index].set(u_ij + r/d)\n",
    "\n",
    "    cond1 = jnp.squeeze(jnp.mod(index, row_size) == 0)\n",
    "    cond2 = jnp.any(jnp.isin(index, index_ign),keepdims=False)\n",
    "    return jax.lax.cond(cond1 | cond2, lambda index, u: u, node_compute, index, u)"
   ]
  },
  {
   "cell_type": "code",
   "execution_count": 11,
   "metadata": {},
   "outputs": [],
   "source": [
    "@jax.jit\n",
    "def restriction_intr(r, index_i, index_j):\n",
    "    center = 4. * r[2*index_i, 2*index_j]\n",
    "            #4. * jnp.squeeze(jax.lax.dynamic_slice(r, (2*index_i, 2*index_j), (1, 1)))\n",
    "    \n",
    "    grid = 2. * (r[2*index_i, 2*index_j + 1] + r[2*index_i, 2*index_j - 1] + \\\n",
    "                r[2*index_i + 1, 2*index_j] + r[2*index_i - 1, 2*index_j])\n",
    "                #(jnp.squeeze(jax.lax.dynamic_slice(r, (2*index_i, 2*index_j + 1), (1, 1))) + \\\n",
    "                #jnp.squeeze(jax.lax.dynamic_slice(r, (2*index_i, 2*index_j - 1), (1, 1))) + \\\n",
    "                #jnp.squeeze(jax.lax.dynamic_slice(r, (2*index_i + 1, 2*index_j), (1, 1))) + \\\n",
    "                #jnp.squeeze(jax.lax.dynamic_slice(r, (2*index_i - 1, 2*index_j), (1, 1))))\n",
    "    \n",
    "    corner =  r[2*index_i + 1, 2*index_j + 1] + r[2*index_i + 1, 2*index_j - 1] + \\\n",
    "              r[2*index_i - 1, 2*index_j + 1] + r[2*index_i - 1, 2*index_j - 1]\n",
    "                #(jnp.squeeze(jax.lax.dynamic_slice(r, (2*index_i + 1, 2*index_j + 1), (1, 1))) + \\\n",
    "    #             jnp.squeeze(jax.lax.dynamic_slice(r, (2*index_i + 1, 2*index_j - 1), (1, 1))) + \\\n",
    "    #             jnp.squeeze(jax.lax.dynamic_slice(r, (2*index_i - 1, 2*index_j + 1), (1, 1))) + \\\n",
    "    #             jnp.squeeze(jax.lax.dynamic_slice(r, (2*index_i - 1, 2*index_j - 1), (1, 1))))\n",
    "    \n",
    "    return (center + grid + corner)/16.\n",
    "\n",
    "@jax.jit\n",
    "def restriction_t_bond(r, index_j):\n",
    "    return r[-1, 2* index_j] #jnp.squeeze(jax.lax.dynamic_slice(r, (size_fine, 2* index_j), (1, 1))))\n",
    "\n",
    "@jax.jit\n",
    "def restriction_b_bond(r, index_j):\n",
    "    return r[0, 2* index_j] #jnp.squeeze(jax.lax.dynamic_slice(r, (0, 2* index_j), (1, 1))))\n",
    "\n",
    "@jax.jit\n",
    "def restriction_l_bond(r, index_i):\n",
    "    return r[2*index_i, 0] #jnp.squeeze(jax.lax.dynamic_slice(r, (2*index_i, 0), (1, 1))))\n",
    "\n",
    "@jax.jit\n",
    "def restriction_r_bond(r, index_i):\n",
    "    return r[2*index_i, -1] #jnp.squeeze(jax.lax.dynamic_slice(r, (2*index_i, size_fine_y), (1, 1))))\n",
    "\n",
    "@partial(jax.jit, static_argnums=(3,4))\n",
    "def restriction(r, index_arr_int, index_arr_bc, size_coarse_x, size_coarse_y):\n",
    "    ec = jnp.zeros((size_coarse_x, size_coarse_y))\n",
    "    ec = ec.at[1:-1, 1:-1].set(jax.vmap(jax.vmap(restriction_intr, in_axes=(None, None, 0)), in_axes=(None, 0, None))(r, index_arr_int, index_arr_int))\n",
    "    ec = ec.at[-1, :].set(jax.vmap(restriction_t_bond, in_axes=(None, 0))(r, index_arr_bc))\n",
    "    ec = ec.at[0, :].set(jax.vmap(restriction_b_bond, in_axes=(None, 0))(r, index_arr_bc))\n",
    "    ec = ec.at[:, -1].set(jax.vmap(restriction_r_bond, in_axes=(None, 0))(r, index_arr_bc))\n",
    "    return ec.at[:, 0].set(jax.vmap(restriction_l_bond, in_axes=(None, 0))(r, index_arr_bc))\n",
    "\n"
   ]
  },
  {
   "cell_type": "code",
   "execution_count": 12,
   "metadata": {},
   "outputs": [],
   "source": [
    "@jax.jit\n",
    "def prolongation_intr(index_i, index_j):\n",
    "    return jnp.hstack((2*index_i, 2*index_j, index_i, index_j), dtype=jnp.int32)\n",
    "    \n",
    "@jax.jit\n",
    "def prolongation_t_bond(index_j):\n",
    "    return jnp.hstack((-1, 2*index_j, -1, index_j), dtype=jnp.int32)\n",
    "\n",
    "@jax.jit\n",
    "def prolongation_b_bond(index_j):\n",
    "    return jnp.hstack((0, 2*index_j, 0, index_j), dtype=jnp.int32)\n",
    "\n",
    "@jax.jit\n",
    "def prolongation_r_bond(index_i):\n",
    "    return jnp.hstack((2*index_i, -1, index_i, -1), dtype=jnp.int32)\n",
    "\n",
    "@jax.jit\n",
    "def prolongation_l_bond(index_i):\n",
    "    return jnp.hstack((2*index_i, 0, index_i, 0), dtype=jnp.int32)\n",
    "\n",
    "@partial(jax.jit, static_argnums=(3,4))\n",
    "def prolongation(unc, index_arr_int, index_arr_bc, size_fine_x, size_fine_y): # size_coarse_x, size_coarse_y\n",
    "    ef = jnp.zeros((size_fine_x, size_fine_y))\n",
    "    \n",
    "    intr_points = jax.vmap(jax.vmap(prolongation_intr, in_axes=(None, 0)), in_axes=(0,None))(index_arr_int, index_arr_int)\n",
    "    ef = ef.at[intr_points[:,:,0], intr_points[:,:,1]].set(unc[intr_points[:,:,2], intr_points[:,:,3]]) # direct_inj\n",
    "    ef = ef.at[intr_points[:,:,0], intr_points[:,:,1] + 1].set(0.5*(unc[intr_points[:,:,2], intr_points[:,:,3]] +\\\n",
    "                                                                    unc[intr_points[:,:,2], intr_points[:,:,3] + 1])) # east neigh\n",
    "    ef = ef.at[intr_points[:,:,0] + 1, intr_points[:,:,1]].set(0.5*(unc[intr_points[:,:,2], intr_points[:,:,3]] +\\\n",
    "                                                                    unc[intr_points[:,:,2] + 1, intr_points[:,:,3]])) # north neigh\n",
    "    ef = ef.at[intr_points[:,:,0] + 1, intr_points[:,:,1] + 1].set(0.25*(unc[intr_points[:,:,2], intr_points[:,:,3]] +\\\n",
    "                                                                         unc[intr_points[:,:,2] + 1, intr_points[:,:,3]] +\\\n",
    "                                                                         unc[intr_points[:,:,2], intr_points[:,:,3] + 1] +\\\n",
    "                                                                         unc[intr_points[:,:,2] + 1, intr_points[:,:,3] + 1])) # north neigh\n",
    "\n",
    "    bndry_points = jax.vmap(prolongation_t_bond, in_axes=0)(index_arr_bc)\n",
    "    ef = ef.at[bndry_points[:,0], bndry_points[:, 1]].set(unc[bndry_points[:,2], bndry_points[:,3]])\n",
    "    \n",
    "    bndry_points = bndry_points.at[:].set(jax.vmap(prolongation_b_bond, in_axes=0)(index_arr_bc))\n",
    "    ef = ef.at[bndry_points[:,0], bndry_points[:, 1]].set(unc[bndry_points[:,2], bndry_points[:,3]])\n",
    "    \n",
    "    bndry_points = bndry_points.at[:].set(jax.vmap(prolongation_r_bond, in_axes=0)(index_arr_bc))\n",
    "    ef = ef.at[bndry_points[:,0], bndry_points[:, 1]].set(unc[bndry_points[:,2], bndry_points[:,3]])\n",
    "    \n",
    "    bndry_points = bndry_points.at[:].set(jax.vmap(prolongation_l_bond, in_axes=0)(index_arr_bc))\n",
    "    ef = ef.at[bndry_points[:,0], bndry_points[:, 1]].set(unc[bndry_points[:,2], bndry_points[:,3]])\n",
    "    \n",
    "    return ef"
   ]
  },
  {
   "cell_type": "code",
   "execution_count": 38,
   "metadata": {},
   "outputs": [],
   "source": [
    "@partial(jax.jit, static_argnames = ('mesh_grid_nums'))\n",
    "def multigrid(u_init, f, index_128_ign, index_64_ign, index_arr_int_128_start,\\\n",
    "              index_arr_int_128_end, index_arr_int_64_start, index_arr_int_64_end, index_arr_int_128, index_arr_int_64, index_arr_bc_64,\\\n",
    "              index_arr_bc_64_prolong, mesh_grid_nums, mesh_grid_sizes, total_iter_list, U, tol):\n",
    "   \n",
    "    @jax.jit\n",
    "    def relaxation(u_ravel, f_ravel, row_size, index_ign, index_arr_start, index_arr_end, total_iter, dx, dy, d):\n",
    "        node_select_special = lambda index, u: node_select(index, u, f_ravel, row_size, index_ign, dx, dy, d)\n",
    "        gauss_siedel = lambda iter, u: jax.lax.fori_loop(index_arr_start, index_arr_end, node_select_special, u)\n",
    "        # jacobi_special = lambda iter, u : jax.vmap(jax.vmap(jacobi, in_axes=(None, None, None, 0, None, None, None)),\\\n",
    "        #                                            in_axes=(None, None, 0, None, None, None, None))\\\n",
    "        #                                            (u, f, index_arr, index_arr, dx, dy, d)\n",
    "        return jax.lax.fori_loop(0, total_iter, gauss_siedel, u_ravel)\n",
    "    \n",
    "    residual_compute = jax.jit(lambda u, f, index_arr, dx, dy : jax.vmap(jax.vmap(jacobi_res, \\\n",
    "                                                                        in_axes=(None, None, None, 0, None, None)),\\\n",
    "                                                                        in_axes=(None, None, 0, None, None, None))\\\n",
    "                                                                        (u, f, index_arr, index_arr, dx, dy))\n",
    "    def while_body_fun(iter, u):\n",
    "        # solve for mesh size 128 x 128\n",
    "        row_size_fine, col_size_fine = mesh_grid_nums[0]\n",
    "        dx, dy = mesh_grid_sizes[0]\n",
    "        d = -2 * (1/dx**2 + 1/dy**2)\n",
    "        u_witout_corr = jnp.ravel(u.at[1:-1, 1:-1].set(0))\n",
    "        f_ravel = jnp.ravel(f)\n",
    "        u_witout_corr = u_witout_corr.at[:].set(relaxation(jnp.ravel(u), f_ravel, row_size_fine,\\\n",
    "                                                        index_128_ign, index_arr_int_128_start, index_arr_int_128_end,\\\n",
    "                                                        total_iter_list[0], dx, dy, d))\n",
    "        u_witout_corr = u_witout_corr.reshape(row_size_fine, col_size_fine)\n",
    "        \n",
    "        # calculate residual for restriction\n",
    "        r_128 = jnp.zeros_like(u)\n",
    "        r_128 = r_128.at[1:-1,1:-1].set(residual_compute(u_witout_corr, f, index_arr_int_128, dx, dy))\n",
    "\n",
    "        # restriction to 64 x 64\n",
    "        row_size_coarse, col_size_coarse = mesh_grid_nums[1]\n",
    "        fc = restriction(r_128, index_arr_int_64, index_arr_bc_64, row_size_coarse, col_size_coarse)\n",
    "\n",
    "        # solve for mesh size 64 x 64\n",
    "        fc_ravel = jnp.ravel(fc)\n",
    "        unc = jnp.ravel(jnp.zeros_like(fc))\n",
    "        dx, dy = mesh_grid_sizes[1]\n",
    "        d = -2 * (1/dx**2 + 1/dy**2) \n",
    "        unc = unc.at[:].set(relaxation(unc, fc_ravel, row_size_coarse,\\\n",
    "                                       index_64_ign, index_arr_int_64_start, index_arr_int_64_end,\\\n",
    "                                       total_iter_list[1], dx, dy, d))\n",
    "        unc = unc.reshape(row_size_coarse, col_size_coarse)\n",
    "\n",
    "        # prolongation to 128 x 128\n",
    "        corr = prolongation(unc, index_arr_int_64_prolong, index_arr_bc_64_prolong, row_size_fine, col_size_fine)\n",
    "                \n",
    "        # # adding correction to fine mesh\n",
    "        u_corr = u_witout_corr.at[1:-1, 1:-1].add(corr[1:-1, 1:-1])\n",
    "        \n",
    "        # solve for mesh size 128 x 128\n",
    "        dx, dy = mesh_grid_sizes[0]\n",
    "        d = -2 * (1/dx**2 + 1/dy**2)\n",
    "        u_corr = jnp.ravel(u_corr)\n",
    "        u_corr = u_corr.at[:].set(relaxation(u_corr, f_ravel, row_size_fine,\\\n",
    "                                            index_128_ign, index_arr_int_128_start, index_arr_int_128_end,\\\n",
    "                                            total_iter_list[2], dx, dy, d))\n",
    "        \n",
    "        return u_corr.reshape(row_size_fine, col_size_fine)\n",
    "    \n",
    "    def while_check_fun(u):\n",
    "        return jnp.average(jnp.absolute(u - U)) > tol\n",
    "        \n",
    "    return jax.lax.fori_loop(0, 3000, while_body_fun, u_init)"
   ]
  },
  {
   "cell_type": "code",
   "execution_count": 40,
   "metadata": {},
   "outputs": [],
   "source": [
    "u_num = multigrid(u_init, F, index_128_ign, index_64_ign, index_arr_128_ravel_start, index_arr_128_ravel_end,\\\n",
    "                  index_arr_64_ravel_start, index_arr_64_ravel_end, index_arr_int_128, index_arr_int_64, index_arr_bc_64, index_arr_bc_64_prolong,\\\n",
    "                  mesh_grid_nums, mesh_grid_sizes, total_iter_list, U, TOL)"
   ]
  },
  {
   "cell_type": "code",
   "execution_count": 24,
   "metadata": {},
   "outputs": [
    {
     "data": {
      "image/png": "[encoded data removed]",
      "text/plain": [
       "<Figure size 2000x600 with 4 Axes>"
      ]
     },
     "metadata": {},
     "output_type": "display_data"
    }
   ],
   "source": [
    "fig, axs = plt.subplots(1,2, figsize=(20, 6))\n",
    "true = axs[0].contourf(X, Y, U)\n",
    "num = axs[1].contourf(X, Y, u_num)\n",
    "\n",
    "fig.colorbar(true)\n",
    "fig.colorbar(num)\n",
    "plt.show()\n"
   ]
  },
  {
   "cell_type": "code",
   "execution_count": null,
   "metadata": {},
   "outputs": [],
   "source": []
  }
 ],
 "metadata": {
  "kernelspec": {
   "display_name": "jaxenv",
   "language": "python",
   "name": "python3"
  },
  "language_info": {
   "codemirror_mode": {
    "name": "ipython",
    "version": 3
   },
   "file_extension": ".py",
   "mimetype": "text/x-python",
   "name": "python",
   "nbconvert_exporter": "python",
   "pygments_lexer": "ipython3",
   "version": "3.10.9"
  },
  "orig_nbformat": 4
 },
 "nbformat": 4,
 "nbformat_minor": 2
}
