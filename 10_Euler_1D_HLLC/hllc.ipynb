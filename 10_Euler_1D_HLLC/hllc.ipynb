{
 "cells": [
  {
   "cell_type": "code",
   "execution_count": 18,
   "metadata": {},
   "outputs": [],
   "source": [
    "import jax\n",
    "import jax.numpy as jnp\n",
    "import matplotlib.pyplot as plt\n",
    "from functools import partial"
   ]
  },
  {
   "cell_type": "code",
   "execution_count": 19,
   "metadata": {},
   "outputs": [],
   "source": [
    "# from jax import config\n",
    "# config.update(\"jax_enable_x64\", True)"
   ]
  },
  {
   "attachments": {},
   "cell_type": "markdown",
   "metadata": {},
   "source": [
    "## Constants"
   ]
  },
  {
   "cell_type": "code",
   "execution_count": 20,
   "metadata": {},
   "outputs": [],
   "source": [
    "X_START = 0\n",
    "X_END = 1\n",
    "T_START = 0\n",
    "T_END = 0.2\n",
    "NX = 8192\n",
    "NT = int((T_END - T_START)/0.00005)\n",
    "gamma = 1.4"
   ]
  },
  {
   "attachments": {},
   "cell_type": "markdown",
   "metadata": {},
   "source": [
    "## Space-Time Domain"
   ]
  },
  {
   "cell_type": "code",
   "execution_count": 21,
   "metadata": {},
   "outputs": [],
   "source": [
    "x = jnp.linspace(X_START, X_END, NX)\n",
    "dx = x[1] - x[0]\n",
    "\n",
    "t = jnp.linspace(T_START, T_END, NT + 1)\n",
    "dt = t[1] - t[0]"
   ]
  },
  {
   "cell_type": "code",
   "execution_count": 22,
   "metadata": {},
   "outputs": [],
   "source": [
    "beta = dt/dx"
   ]
  },
  {
   "attachments": {},
   "cell_type": "markdown",
   "metadata": {},
   "source": [
    "## Initial Conditions"
   ]
  },
  {
   "attachments": {},
   "cell_type": "markdown",
   "metadata": {},
   "source": [
    "### primitive form of the flow variables in the form of ($\\rho$, p, u)"
   ]
  },
  {
   "cell_type": "code",
   "execution_count": 23,
   "metadata": {},
   "outputs": [],
   "source": [
    "rho = jnp.where(x <= 0.5, 1., 0.125)\n",
    "p= jnp.where(x <= 0.5, 1., 0.1)\n",
    "u = jnp.zeros(NX)"
   ]
  },
  {
   "attachments": {},
   "cell_type": "markdown",
   "metadata": {},
   "source": [
    "## Helper Functions"
   ]
  },
  {
   "cell_type": "code",
   "execution_count": 24,
   "metadata": {},
   "outputs": [],
   "source": [
    "@jax.jit\n",
    "def flux(con_variables, gamma):\n",
    "    rho, rhou, rhoe = con_variables\n",
    "    u = rhou/rho\n",
    "    e = rhoe/rho\n",
    "    p = rho*(gamma - 1.)*(e - 0.5*u**2)\n",
    "    h = e + p/rho\n",
    "    \n",
    "    f1 = rhou\n",
    "    f2 = rhou*u + p\n",
    "    f3 = rhou*h\n",
    "    \n",
    "    return jnp.stack((f1, f2, f3))\n",
    "\n",
    "@jax.jit\n",
    "def con_2_prim(con_variables, gamma):\n",
    "    rho, rhou, rhoe = con_variables\n",
    "    u = rhou/rho\n",
    "    e = rhoe/rho\n",
    "    p = rho*(gamma - 1.)*(e - 0.5*u**2)\n",
    "    return jnp.stack((rho, p, u))\n",
    "    \n",
    "@jax.jit\n",
    "def prim_2_con(prim_variables, gamma):\n",
    "    rho, p, u = prim_variables\n",
    "    rhou = rho * u\n",
    "    e = (p/(rho * (gamma - 1.))) + 0.5*u**2\n",
    "    rhoe = rho*e\n",
    "    return jnp.stack((rho, rhou, rhoe))\n",
    "\n",
    "@jax.jit\n",
    "def face_flux(qL, qR, fL, fR, gamma):\n",
    "    gm = gamma - 1.\n",
    "\n",
    "    rhoL, rhouL, rhoeL = qL\n",
    "    uL = rhouL/rhoL\n",
    "    eL = rhoeL/rhoL\n",
    "    pL = rhoL*gm*(eL - 0.5*uL**2)\n",
    "    aL = jnp.sqrt(gamma*pL/rhoL)\n",
    "    \n",
    "    rhoR, rhouR, rhoeR = qR\n",
    "    uR = rhouR/rhoR\n",
    "    eR = rhoeR/rhoR\n",
    "    pR = rhoR*gm*(eR - 0.5*uR**2)\n",
    "    aR = jnp.sqrt(gamma*pR/rhoR)\n",
    "    \n",
    "    SL = jax.lax.cond(uL > uR, lambda: uR, lambda: uL) - jax.lax.cond(aL > aR, lambda: aL, lambda: aR)\n",
    "    SR = jax.lax.cond(uL > uR, lambda: uL, lambda: uR) + jax.lax.cond(aL > aR, lambda: aL, lambda: aR)\n",
    "    \n",
    "    SP = (pR - pL + rhoL*uL*(SL - uL) - rhoR*uR*(SR - uR))/(rhoL*(SL - uL) - rhoR*(SR - uR))\n",
    "\n",
    "    DS = jnp.asarray((0., 1., SP))\n",
    "        \n",
    "    pLR = 0.5*(pL + pR + rhoL*(SL - uL)*(SP - uL) + rhoR*(SR - uR)*(SP - uR))\n",
    "            \n",
    "    f = jax.lax.cond(SL >= 0., lambda: fL, \n",
    "                     lambda: jax.lax.cond(SR <= 0., lambda: fR, \n",
    "                                      lambda: jax.lax.cond((SL <= 0.) & (SP >= 0.), lambda: ((SP * (SL*qL - fL) + SL*pLR*DS)/(SL - SP)), \n",
    "                                                    lambda: jax.lax.cond((SR >= 0.) & (SP < 0.), lambda: ((SP * (SR*qR - fR) + SR*pLR*DS)/(SR - SP)),\n",
    "                                                                   lambda: jnp.zeros_like(fL)\n",
    "                                                                  )\n",
    "                                                    )\n",
    "                                      )\n",
    "                    )\n",
    "    \n",
    "    return f"
   ]
  },
  {
   "cell_type": "code",
   "execution_count": 25,
   "metadata": {},
   "outputs": [],
   "source": [
    "# reconstructor for Left side\n",
    "@jax.jit\n",
    "def wcL(u_sliced):\n",
    "    eps = 1e-6\n",
    "    v1, v2, v3, v4, v5 = u_sliced\n",
    "    \n",
    "    s1 = (13. / 12.) * (v1 - 2. * v2 + v3)**2 + 0.25 * (v1 - 4. * v2 + 3. * v3)**2\n",
    "    s2 = (13. / 12.) * (v2 - 2. * v3 + v4)**2 + 0.25 * (v2 - v4)**2\n",
    "    s3 = (13. / 12.) * (v3 - 2. * v4 + v5)**2 + 0.25 * (3. * v3 - 4. * v4 + v5)**2\n",
    "    \n",
    "    c1 = 1e-1/(eps + s1)**2\n",
    "    c2 = 6e-1/(eps + s2)**2\n",
    "    c3 = 3e-1/(eps + s3)**2\n",
    "    \n",
    "    c_sum = c1 + c2 + c3\n",
    "    \n",
    "    w1 = c1/c_sum\n",
    "    w2 = c2/c_sum\n",
    "    w3 = c3/c_sum\n",
    "    \n",
    "    q1 = v1/3. - (7./6.) * v2 + (11./6.) * v3\n",
    "    q2 = -v2/6. + (5./6.) * v3 + v4/3.\n",
    "    q3 = v3/3. + (5./6.) * v4 - v5/6.\n",
    "    \n",
    "    return w1*q1 + w2*q2 + w3*q3\n",
    "\n",
    "\n",
    "## reconstructor for the right side\n",
    "@jax.jit\n",
    "def wcR(u_sliced):\n",
    "    eps = 1e-6\n",
    "    v1, v2, v3, v4, v5 = u_sliced\n",
    "    \n",
    "    s1 = (13. / 12.) * (v1 - 2. * v2 + v3)**2 + 0.25 * (v1 - 4. * v2 + 3. * v3)**2\n",
    "    s2 = (13. / 12.) * (v2 - 2. * v3 + v4)**2 + 0.25 * (v2 - v4)**2\n",
    "    s3 = (13. / 12.) * (v3 - 2. * v4 + v5)**2 + 0.25 * (3. * v3 - 4. * v4 +  v5)**2\n",
    "    \n",
    "    c1 = 3e-1/(eps + s1)**2\n",
    "    c2 = 6e-1/(eps + s2)**2\n",
    "    c3 = 1e-1/(eps + s3)**2\n",
    "    \n",
    "    c_sum = c1 + c2 + c3\n",
    "    \n",
    "    w1 = c1/c_sum\n",
    "    w2 = c2/c_sum\n",
    "    w3 = c3/c_sum\n",
    "    \n",
    "    q1 = -v1/6. + (5./6.) * v2 +  v3/3.\n",
    "    q2 = v2/3. + (5./6.) * v3 -  v4/6.\n",
    "    q3 = (11./ 6.) * v3 - (7./6.) * v4 + v5/3.\n",
    "    \n",
    "    return w1*q1 + w2*q2 + w3*q3"
   ]
  },
  {
   "cell_type": "code",
   "execution_count": 26,
   "metadata": {},
   "outputs": [],
   "source": [
    "@jax.jit\n",
    "def wenoL(u, xs, index):\n",
    "    \n",
    "    def u_slices(index, x):\n",
    "        def case_0_m_1(index, u):\n",
    "            return wcL(jnp.asarray([u[2], u[1], u[0], u[0], u[1]]))\n",
    "        def case_0(index, u): \n",
    "            return wcL(jnp.asarray([u[1], u[0], u[0], u[1], u[2]]))\n",
    "        def case_1(index, u):\n",
    "            return wcL(jnp.asarray([u[0], u[0], u[1], u[2], u[3]]))\n",
    "        def case_N_m_2(index, u):\n",
    "            return wcL(jnp.asarray([u[-4], u[-3], u[-2], u[-1], u[-1]]))\n",
    "        def case_N_m_1(index, u):\n",
    "            return wcL(jnp.asarray([u[-3], u[-2], u[-1], u[-1], u[-2]]))\n",
    "        def normal(index, u):\n",
    "            return wcL(jax.lax.dynamic_slice_in_dim(u, index - 2, 5))\n",
    "        return jax.lax.switch(x, (normal, case_0_m_1, case_0, case_1, case_N_m_2, case_N_m_1), index, u)\n",
    "    \n",
    "    return u_slices(index, xs)\n",
    "\n",
    "@jax.jit\n",
    "def wenoR(u, xs, index):\n",
    "    \n",
    "    def u_slices(index, x):\n",
    "        def case_0_m_1(index, u):\n",
    "            return wcL(jnp.asarray([u[1], u[0], u[0], u[1], u[2]]))\n",
    "        def case_0(index, u): \n",
    "            return wcL(jnp.asarray([u[0], u[0], u[1], u[2], u[3]]))\n",
    "        def case_1(index, u):\n",
    "            return wcL(jnp.asarray([u[-4], u[-3], u[-2], u[-1],  u[-1]]))\n",
    "        def case_N_m_2(index, u):\n",
    "            return wcL(jnp.asarray([u[-3], u[-2], u[-1], u[-1], u[-2]]))\n",
    "        def case_N_m_1(index, u):\n",
    "            return wcL(jnp.asarray([u[-2], u[-1], u[-1], u[-2], u[-3]]))\n",
    "        def normal(index, u):\n",
    "            return wcL(jax.lax.dynamic_slice_in_dim(u, index - 1, 5))\n",
    "        return jax.lax.switch(x, (normal, case_0_m_1, case_0, case_1, case_N_m_2, case_N_m_1), index, u)\n",
    "    \n",
    "    return u_slices(index, xs)"
   ]
  },
  {
   "cell_type": "code",
   "execution_count": 27,
   "metadata": {},
   "outputs": [],
   "source": [
    "mapped_wenoL = jax.vmap(jax.vmap(wenoL, in_axes=(0, None, None)), in_axes=(None, 0, 0), out_axes=1)\n",
    "mapped_wenoR = jax.vmap(jax.vmap(wenoR, in_axes=(0, None, None)), in_axes=(None, 0, 0), out_axes=1)\n",
    "mapped_flux = jax.vmap(flux, in_axes=(1, None), out_axes=1)\n",
    "mapped_face_flux = jax.vmap(face_flux, in_axes=(1, 1, 1, 1, None), out_axes=1)"
   ]
  },
  {
   "cell_type": "code",
   "execution_count": 28,
   "metadata": {},
   "outputs": [],
   "source": [
    "@jax.jit\n",
    "def rhs(q, beta, xsL, xsR, gamma, index):\n",
    "    \n",
    "    qL = mapped_wenoL(q, xsL, index)\n",
    "    qR = mapped_wenoR(q, xsR, index)\n",
    "    \n",
    "    flux_L, flux_R = mapped_flux(qL, gamma), mapped_flux(qR, gamma)\n",
    "    \n",
    "    flux_arr = mapped_face_flux(qL, qR, flux_L, flux_R, gamma)\n",
    "        \n",
    "    return -beta * (jax.lax.slice_in_dim(flux_arr, 1, None, axis=1) - jax.lax.slice_in_dim(flux_arr, 0, -1, axis=1))"
   ]
  },
  {
   "cell_type": "code",
   "execution_count": 29,
   "metadata": {},
   "outputs": [],
   "source": [
    "@partial(jax.jit, static_argnames=('NX', 'NT'))\n",
    "def hllc_num_loop(q, beta, NX, NT, gamma):\n",
    "    \n",
    "    xsL = jnp.zeros(NX + 1, dtype=jnp.int32)\n",
    "    xsL = xsL.at[jnp.asarray((0, 1, 2, NX - 1, NX))].set(jnp.arange(1, 6))\n",
    "    \n",
    "    xsR = jnp.zeros(NX + 1, dtype=jnp.int32)\n",
    "    xsR = xsR.at[jnp.asarray((0, 1, NX - 2, NX - 1, NX))].set(jnp.arange(1, 6))\n",
    "    \n",
    "    index = jnp.arange(-1, NX)\n",
    "    \n",
    "    def u_each_time_step(q_i, _):\n",
    "        ## RK3 time integration\n",
    "        q1, r= jnp.zeros((3, NX)), jnp.zeros((3, NX))\n",
    "        \n",
    "        r = r.at[:].set(rhs(q_i, beta, xsL, xsR, gamma, index))\n",
    "        q1 = q1.at[:].set(q_i + r)\n",
    "\n",
    "        r = r.at[:].set(rhs(q1, beta, xsL, xsR, gamma, index))\n",
    "        q1 = q1.at[:].set(0.75*q_i + 0.25*(q1 + r))\n",
    "\n",
    "        r = r.at[:].set(rhs(q1, beta, xsL, xsR, gamma, index))\n",
    "        q_i = q_i.at[:].set((1./3.)*q_i + (2./3.)*(q1 + r))\n",
    "        \n",
    "        return q_i, q_i\n",
    "    \n",
    "    return jax.lax.scan(u_each_time_step, q, None, NT)"
   ]
  },
  {
   "attachments": {},
   "cell_type": "markdown",
   "metadata": {},
   "source": [
    "### conservative form of the flow variables in the form of ($\\rho$, $\\rho$*u, $\\rho$*e)"
   ]
  },
  {
   "cell_type": "code",
   "execution_count": 30,
   "metadata": {},
   "outputs": [],
   "source": [
    "q = prim_2_con(jnp.stack((rho, p, u)), gamma)"
   ]
  },
  {
   "cell_type": "code",
   "execution_count": 31,
   "metadata": {},
   "outputs": [],
   "source": [
    "_, Q = hllc_num_loop(q, beta, NX, NT, gamma)"
   ]
  },
  {
   "cell_type": "code",
   "execution_count": 32,
   "metadata": {},
   "outputs": [
    {
     "data": {
      "image/png": "[encoded data removed]",
      "text/plain": [
       "<Figure size 600x600 with 1 Axes>"
      ]
     },
     "metadata": {},
     "output_type": "display_data"
    }
   ],
   "source": [
    "plt.figure(figsize=(6,6))\n",
    "plt.xlabel(\"x\")\n",
    "plt.ylabel(\"u\")\n",
    "plt.xlim((0,1))\n",
    "plt.ylim((-0.2,1.2))\n",
    "#plt.title(\"Comparison of theoritical and numerical values @ t = 1\")\n",
    "for i in range(0, NT + 500, 500):    \n",
    "    plt.plot(x, jax.vmap(con_2_prim,in_axes=(0,None))(Q[i].T, gamma)[:,1], label=f't={(i*dt):2.2f}')\n",
    "plt.legend()\n",
    "plt.show()"
   ]
  }
 ],
 "metadata": {
  "kernelspec": {
   "display_name": "jaxenv",
   "language": "python",
   "name": "python3"
  },
  "language_info": {
   "codemirror_mode": {
    "name": "ipython",
    "version": 3
   },
   "file_extension": ".py",
   "mimetype": "text/x-python",
   "name": "python",
   "nbconvert_exporter": "python",
   "pygments_lexer": "ipython3",
   "version": "3.10.9"
  },
  "orig_nbformat": 4
 },
 "nbformat": 4,
 "nbformat_minor": 2
}
