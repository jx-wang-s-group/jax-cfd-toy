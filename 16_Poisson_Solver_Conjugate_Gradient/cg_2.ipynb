{
 "cells": [
  {
   "cell_type": "code",
   "execution_count": 1,
   "metadata": {},
   "outputs": [],
   "source": [
    "import jax\n",
    "import jax.numpy as jnp\n",
    "import matplotlib.pyplot as plt\n",
    "from functools import partial"
   ]
  },
  {
   "cell_type": "code",
   "execution_count": 28,
   "metadata": {},
   "outputs": [],
   "source": [
    "L = 1.\n",
    "NX = NY = 64\n",
    "X_START = 0.\n",
    "X_END = L\n",
    "Y_START = 0.\n",
    "Y_END = L\n",
    "TOL = 1e-5"
   ]
  },
  {
   "cell_type": "code",
   "execution_count": 29,
   "metadata": {},
   "outputs": [],
   "source": [
    "x = jnp.linspace(X_START, X_END, NX + 1)\n",
    "y = jnp.linspace(Y_START, Y_END, NY + 1)\n",
    "X, Y = jnp.meshgrid(x, y)"
   ]
  },
  {
   "cell_type": "code",
   "execution_count": 30,
   "metadata": {},
   "outputs": [],
   "source": [
    "dx = x[1] - x[0]\n",
    "dy = y[1] - y[0]"
   ]
  },
  {
   "cell_type": "code",
   "execution_count": 31,
   "metadata": {},
   "outputs": [],
   "source": [
    "u = jax.jit(lambda x, y: (x**2 - 1.)*(y**2 - 1.))\n",
    "f = jax.jit(lambda x, y: -2.*(2. - x**2 - y**2))"
   ]
  },
  {
   "cell_type": "code",
   "execution_count": 32,
   "metadata": {},
   "outputs": [],
   "source": [
    "U = u(X, Y)\n",
    "F = f(X, Y)"
   ]
  },
  {
   "cell_type": "code",
   "execution_count": 33,
   "metadata": {},
   "outputs": [],
   "source": [
    "u_init = U.at[1:-1,1:-1].set(0)"
   ]
  },
  {
   "cell_type": "code",
   "execution_count": 34,
   "metadata": {},
   "outputs": [],
   "source": [
    "@jax.jit\n",
    "def residual_node_compute(i, j, u=u_init, f=F, dx=dx, dy=dy):\n",
    "    u_ijm1, u_ij, u_ijp1, u_im1j, u_ip1j, f_ij = u[i,j - 1], u[i,j],  u[i,j + 1], u[i - 1,j], u[i + 1,j], f[i,j]\n",
    "    return f_ij - (u_ijp1 - 2*u_ij + u_ijm1)/dx**2 - (u_ip1j - 2*u_ij + u_im1j)/dy**2\n",
    "\n",
    "@jax.jit\n",
    "def q_node_compute(i, j, u, dx=dx, dy=dy):\n",
    "    u_ijm1, u_ij, u_ijp1, u_im1j, u_ip1j = u[i,j - 1], u[i,j],  u[i,j + 1], u[i - 1,j], u[i + 1,j]\n",
    "    return (u_ijp1 - 2*u_ij + u_ijm1)/dx**2 + (u_ip1j - 2*u_ij + u_im1j)/dy**2"
   ]
  },
  {
   "cell_type": "code",
   "execution_count": 35,
   "metadata": {},
   "outputs": [],
   "source": [
    "rnci_vmapped = jax.vmap(jax.vmap(residual_node_compute, in_axes=(None, 0)), in_axes=(0, None))\n",
    "r_init = jnp.zeros_like(u_init)\n",
    "r_init = r_init.at[1:-1, 1:-1].set(rnci_vmapped(jnp.arange(1,NX), jnp.arange(1,NY)))\n",
    "p_init = r_init.clone()\n",
    "rms_init = jnp.sqrt(jnp.average(jnp.square(r_init)))"
   ]
  },
  {
   "cell_type": "code",
   "execution_count": 36,
   "metadata": {},
   "outputs": [],
   "source": [
    "urp_init = jnp.stack((u_init, r_init, p_init), axis=0)"
   ]
  },
  {
   "cell_type": "code",
   "execution_count": 45,
   "metadata": {},
   "outputs": [],
   "source": [
    "def cg_main_loop(urp, index_arr_x=jnp.arange(1,NX), index_arr_y=jnp.arange(1,NY)):\n",
    "    u, r, p = urp\n",
    "    \n",
    "    q = jnp.zeros_like(p)\n",
    "    q = q.at[1:-1, 1:-1].set(jax.vmap(jax.vmap(q_node_compute, in_axes=(None, 0, None)),\\\n",
    "                            in_axes=(0, None, None))\\\n",
    "                            (index_arr_x, index_arr_y, p))\n",
    "    rho = jnp.sum(r * r)\n",
    "    alpha = rho/jnp.sum(p * q)\n",
    "    \n",
    "    u = u.at[1:-1, 1:-1].add(alpha * p[1:-1, 1:-1])\n",
    "    r = r.at[1:-1, 1:-1].add(-alpha * q[1:-1, 1:-1])\n",
    "    \n",
    "    rho_new = jnp.sum(r * r)\n",
    "    beta = rho_new/rho\n",
    "    p = p.at[1:-1, 1:-1].set(r[1:-1, 1:-1] + beta * p[1:-1, 1:-1])\n",
    "\n",
    "    return jnp.stack((u, r, p), axis=0)\n",
    "    \n",
    "def tol_check_(urp, U = U, TOL=TOL):\n",
    "    u, _, __ = urp\n",
    "    return jnp.average(jnp.absolute(u - U)) > TOL    \n",
    "\n",
    "def tol_check(urp, TOL=1e-2):\n",
    "    _, r, __ = urp\n",
    "    return jnp.sqrt(jnp.average(jnp.square(r))) > TOL    "
   ]
  },
  {
   "cell_type": "code",
   "execution_count": 46,
   "metadata": {},
   "outputs": [],
   "source": [
    "u_num = jax.lax.while_loop(tol_check, cg_main_loop, urp_init)"
   ]
  },
  {
   "cell_type": "code",
   "execution_count": 47,
   "metadata": {},
   "outputs": [
    {
     "data": {
      "image/png": "[encoded data removed]",
      "text/plain": [
       "<Figure size 2000x600 with 4 Axes>"
      ]
     },
     "metadata": {},
     "output_type": "display_data"
    }
   ],
   "source": [
    "fig, axs = plt.subplots(1,2, figsize=(20, 6))\n",
    "true = axs[0].contourf(X, Y, U)\n",
    "num = axs[1].contourf(X, Y, u_num[0].reshape(NX+1,NX+1))\n",
    "\n",
    "fig.colorbar(true)\n",
    "fig.colorbar(num)\n",
    "plt.show()"
   ]
  },
  {
   "cell_type": "code",
   "execution_count": 48,
   "metadata": {},
   "outputs": [
    {
     "data": {
      "text/plain": [
       "Array(1.0577418e-05, dtype=float32)"
      ]
     },
     "execution_count": 48,
     "metadata": {},
     "output_type": "execute_result"
    }
   ],
   "source": [
    "jnp.average(jnp.absolute(u_num[0] - U))"
   ]
  }
 ],
 "metadata": {
  "kernelspec": {
   "display_name": "jaxenv",
   "language": "python",
   "name": "python3"
  },
  "language_info": {
   "codemirror_mode": {
    "name": "ipython",
    "version": 3
   },
   "file_extension": ".py",
   "mimetype": "text/x-python",
   "name": "python",
   "nbconvert_exporter": "python",
   "pygments_lexer": "ipython3",
   "version": "3.10.9"
  },
  "orig_nbformat": 4
 },
 "nbformat": 4,
 "nbformat_minor": 2
}
