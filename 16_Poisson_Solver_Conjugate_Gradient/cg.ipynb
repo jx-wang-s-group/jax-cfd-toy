{
 "cells": [
  {
   "cell_type": "code",
   "execution_count": 109,
   "metadata": {},
   "outputs": [],
   "source": [
    "import jax\n",
    "import jax.numpy as jnp\n",
    "import matplotlib.pyplot as plt\n",
    "from functools import partial"
   ]
  },
  {
   "cell_type": "code",
   "execution_count": 110,
   "metadata": {},
   "outputs": [],
   "source": [
    "L = 1.\n",
    "NX = NY = 64\n",
    "X_START = 0.\n",
    "X_END = L\n",
    "Y_START = 0.\n",
    "Y_END = L\n",
    "TOL = 1e-3"
   ]
  },
  {
   "cell_type": "code",
   "execution_count": 111,
   "metadata": {},
   "outputs": [],
   "source": [
    "x = jnp.linspace(X_START, X_END, NX + 1)\n",
    "y = jnp.linspace(Y_START, Y_END, NY + 1)\n",
    "X, Y = jnp.meshgrid(x, y)"
   ]
  },
  {
   "cell_type": "code",
   "execution_count": 112,
   "metadata": {},
   "outputs": [],
   "source": [
    "dx = x[1] - x[0]\n",
    "dy = y[1] - y[0]"
   ]
  },
  {
   "cell_type": "code",
   "execution_count": 113,
   "metadata": {},
   "outputs": [],
   "source": [
    "u = lambda x, y: (x**2 - 1.)*(y**2 - 1.)\n",
    "f = lambda x, y: -2.*(2. - x**2 - y**2)"
   ]
  },
  {
   "cell_type": "code",
   "execution_count": 114,
   "metadata": {},
   "outputs": [],
   "source": [
    "U = u(X, Y)\n",
    "F = f(X, Y)"
   ]
  },
  {
   "cell_type": "code",
   "execution_count": 115,
   "metadata": {},
   "outputs": [],
   "source": [
    "U_ravel = jnp.ravel(U)\n",
    "F_ravel = jnp.ravel(F)\n",
    "size_of_row = NX+1\n",
    "index_arr = jnp.ravel(jnp.arange((NX + 1)*(NX + 1)).reshape((NX+1, NX+1)))\n",
    "index_arr_int = jnp.ravel((jnp.arange((NX + 1)*(NX + 1)).reshape((NX+1, NX+1))[1:-1, 1:-1]))\n",
    "u_size = size_of_row**2"
   ]
  },
  {
   "cell_type": "code",
   "execution_count": 116,
   "metadata": {},
   "outputs": [],
   "source": [
    "def node_select(index, u, func, row_size=size_of_row):\n",
    "    cond1 = jnp.squeeze(jnp.mod(index, row_size) == 0)\n",
    "    cond2 = jnp.any(jnp.isin(index, (row_size - 1) + (row_size)*jnp.arange(1,row_size)), keepdims=False)\n",
    "    return jax.lax.cond(cond1 | cond2, lambda index, u: u[index], func, index, u)\n",
    "\n",
    "def node_compute(index, u, f=F_ravel, row_size=NX+1, dx=dx, dy=dy):\n",
    "    u_ijm1, u_ij, u_ijp1, u_im1j, u_ip1j = jnp.hstack((jax.lax.dynamic_slice_in_dim(u, index - 1, 3), jax.lax.dynamic_index_in_dim(u, index - row_size), jax.lax.dynamic_index_in_dim(u, index + row_size)))\n",
    "    return jnp.squeeze(jax.lax.dynamic_index_in_dim(f, index) - ((u_ijp1 - 2*u_ij + u_ijm1)/dx**2) - ((u_ip1j - 2*u_ij + u_im1j)/dy**2))"
   ]
  },
  {
   "cell_type": "code",
   "execution_count": 117,
   "metadata": {},
   "outputs": [],
   "source": [
    "u_init = U_ravel.at[index_arr_int].set(0)\n",
    "r_init = jnp.zeros((NX+1)*(NX+1))\n",
    "r_init = r_init.at[index_arr_int].set(jax.vmap(node_select, in_axes=(0, None, None))(index_arr_int, u_init, node_compute))\n",
    "p_init = r_init.clone()\n",
    "urp_init = jnp.vstack((u_init, r_init, p_init))"
   ]
  },
  {
   "cell_type": "code",
   "execution_count": 118,
   "metadata": {},
   "outputs": [],
   "source": [
    "@jax.jit\n",
    "def q_compute(index, p, row_size=size_of_row, dx=dx, dy=dy):\n",
    "    p_ijm1, p_ij, p_ijp1, p_im1j, p_ip1j = jnp.hstack((jax.lax.dynamic_slice_in_dim(p, index - 1, 3), jax.lax.dynamic_index_in_dim(p, index - row_size), jax.lax.dynamic_index_in_dim(p, index + row_size)))\n",
    "    return  (p_ijp1 - 2*p_ij + p_ijm1)/dx**2 + (p_ip1j - 2*p_ij + p_im1j)/dy**2\n",
    "\n",
    "@jax.jit\n",
    "def cg_main_loop(urp, index_arr=index_arr_int):\n",
    "    u, r, p = urp\n",
    "    \n",
    "    q = jnp.zeros_like(u)\n",
    "    q = q.at[index_arr].set(jax.vmap(q_compute, in_axes=(0, None))(index_arr, p))\n",
    "    rho = jnp.matmul(r, r)\n",
    "    alpha = rho/jnp.matmul(p,q)\n",
    "    \n",
    "    u = u.at[index_arr].set(u[index_arr] + alpha * p[index_arr])\n",
    "    r = r.at[index_arr].set(r[index_arr] - alpha * q[index_arr])\n",
    "    \n",
    "    rho_new = jnp.matmul(r, r)\n",
    "    beta = rho_new/rho\n",
    "    p = p.at[index_arr].set(r[index_arr] + beta * p[index_arr])\n",
    "    \n",
    "    return jnp.vstack((u,r,p))\n",
    "\n",
    "def tol_check(urp, U_ravel=U_ravel, TOL=TOL, u_size=u_size):\n",
    "    u, a, b = urp\n",
    "    return jnp.sum(jnp.absolute(u - U_ravel))/u_size > TOL"
   ]
  },
  {
   "cell_type": "code",
   "execution_count": 119,
   "metadata": {},
   "outputs": [],
   "source": [
    "u_num = jax.lax.while_loop(tol_check, cg_main_loop, urp_init)"
   ]
  },
  {
   "cell_type": "code",
   "execution_count": 120,
   "metadata": {},
   "outputs": [
    {
     "data": {
      "image/png": "[encoded data removed]",
      "text/plain": [
       "<Figure size 2000x600 with 4 Axes>"
      ]
     },
     "metadata": {},
     "output_type": "display_data"
    }
   ],
   "source": [
    "fig, axs = plt.subplots(1,2, figsize=(20, 6))\n",
    "true = axs[0].contourf(X, Y, U)\n",
    "num = axs[1].contourf(X, Y, u_num[0].reshape(NX+1,NX+1))\n",
    "\n",
    "fig.colorbar(true)\n",
    "fig.colorbar(num)\n",
    "plt.show()\n"
   ]
  },
  {
   "cell_type": "code",
   "execution_count": null,
   "metadata": {},
   "outputs": [],
   "source": []
  }
 ],
 "metadata": {
  "kernelspec": {
   "display_name": "jaxenv",
   "language": "python",
   "name": "python3"
  },
  "language_info": {
   "codemirror_mode": {
    "name": "ipython",
    "version": 3
   },
   "file_extension": ".py",
   "mimetype": "text/x-python",
   "name": "python",
   "nbconvert_exporter": "python",
   "pygments_lexer": "ipython3",
   "version": "3.10.9"
  },
  "orig_nbformat": 4
 },
 "nbformat": 4,
 "nbformat_minor": 2
}
