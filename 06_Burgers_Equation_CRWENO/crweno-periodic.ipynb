{
 "cells": [
  {
   "cell_type": "code",
   "execution_count": 1,
   "metadata": {},
   "outputs": [],
   "source": [
    "import jax\n",
    "import jax.numpy as jnp\n",
    "import matplotlib.pyplot as plt\n",
    "from functools import partial"
   ]
  },
  {
   "cell_type": "code",
   "execution_count": 2,
   "metadata": {},
   "outputs": [],
   "source": [
    "# from jax import config\n",
    "# config.update(\"jax_enable_x64\", True)"
   ]
  },
  {
   "attachments": {},
   "cell_type": "markdown",
   "metadata": {},
   "source": [
    "## Constants"
   ]
  },
  {
   "cell_type": "code",
   "execution_count": 3,
   "metadata": {},
   "outputs": [],
   "source": [
    "X_START = 0\n",
    "X_END = 1\n",
    "T_START = 0\n",
    "T_END = 0.25\n",
    "NX = 200\n",
    "NT = int((T_END - T_START)/0.0001)\n",
    "ALPHA = 1./jnp.pi**2"
   ]
  },
  {
   "attachments": {},
   "cell_type": "markdown",
   "metadata": {},
   "source": [
    "## Space-Time Domain"
   ]
  },
  {
   "cell_type": "code",
   "execution_count": 4,
   "metadata": {},
   "outputs": [],
   "source": [
    "x = jnp.linspace(X_START, X_END, NX + 1)\n",
    "dx = x[1] - x[0]\n",
    "\n",
    "t = jnp.linspace(T_START, T_END, NT + 1)\n",
    "dt = t[1] - t[0]"
   ]
  },
  {
   "cell_type": "code",
   "execution_count": 5,
   "metadata": {},
   "outputs": [],
   "source": [
    "beta = dt / dx"
   ]
  },
  {
   "attachments": {},
   "cell_type": "markdown",
   "metadata": {},
   "source": [
    "## Initial Conditions"
   ]
  },
  {
   "cell_type": "code",
   "execution_count": 6,
   "metadata": {},
   "outputs": [],
   "source": [
    "u = jnp.sin(2. * jnp.pi * x)"
   ]
  },
  {
   "attachments": {},
   "cell_type": "markdown",
   "metadata": {},
   "source": [
    "## Helper functions"
   ]
  },
  {
   "cell_type": "code",
   "execution_count": 7,
   "metadata": {},
   "outputs": [],
   "source": [
    "# weights for reconstructor on the left side\n",
    "@jax.jit\n",
    "def crwcL(u_sliced):\n",
    "    eps = 1e-6\n",
    "    v1, v2, v3, v4, v5 = u_sliced\n",
    "    \n",
    "    s1 = (13. / 12.) * (v1 - 2. * v2 + v3)**2 + 0.25 * (v1 - 4. * v2 + 3. * v3)**2\n",
    "    s2 = (13. / 12.) * (v2 - 2. * v3 + v4)**2 + 0.25 * (v2 - v4)**2\n",
    "    s3 = (13. / 12.) * (v3 - 2. * v4 + v5)**2 + 0.25 * (3. * v3 - 4. * v4 + v5)**2\n",
    "    \n",
    "    c1 = 2e-1/(eps + s1)**2\n",
    "    c2 = 5e-1/(eps + s2)**2\n",
    "    c3 = 3e-1/(eps + s3)**2\n",
    "    \n",
    "    c_sum = c1 + c2 + c3\n",
    "    \n",
    "    w1 = c1/c_sum\n",
    "    w2 = c2/c_sum\n",
    "    w3 = c3/c_sum\n",
    "    \n",
    "    a1 = (2. * w1 + w2)/ 3.\n",
    "    a2 = (w1 + 2. * w2 + 2. * w3)/3.\n",
    "    a3 = w3/3.\n",
    "    \n",
    "    b1 = w1/6.\n",
    "    b2 = (5. * w1 + 5. * w2 + w3)/6.\n",
    "    b3 = (w2 + 5. * w3)/6.\n",
    "    \n",
    "    return jnp.asarray((a1, a2, a3, b1, b2, b3))\n",
    "\n",
    "\n",
    "## weights for reconstructor on the right side\n",
    "@jax.jit\n",
    "def crwcR(u_sliced):\n",
    "    eps = 1e-6\n",
    "    v1, v2, v3, v4, v5 = u_sliced\n",
    "    \n",
    "    s1 = (13. / 12.) * (v1 - 2. * v2 + v3)**2 + 0.25 * (v1 - 4. * v2 + 3. * v3)**2\n",
    "    s2 = (13. / 12.) * (v2 - 2. * v3 + v4)**2 + 0.25 * (v2 - v4)**2\n",
    "    s3 = (13. / 12.) * (v3 - 2. * v4 + v5)**2 + 0.25 * (3. * v3 - 4. * v4 +  v5)**2\n",
    "    \n",
    "    c1 = 3e-1/(eps + s1)**2\n",
    "    c2 = 5e-1/(eps + s2)**2\n",
    "    c3 = 2e-1/(eps + s3)**2\n",
    "    \n",
    "    c_sum = c1 + c2 + c3\n",
    "    \n",
    "    w1 = c1/c_sum\n",
    "    w2 = c2/c_sum\n",
    "    w3 = c3/c_sum\n",
    "    \n",
    "    a1 = w1/3. \n",
    "    a2 = (w3 + 2. * (w2 + w1))/3. \n",
    "    a3 = (2. * w3 + w2)/3.\n",
    "    \n",
    "    b1 = (w2 + 5. * w1)/6.\n",
    "    b2 = (5. * (w3 + w2) + w1)/6.\n",
    "    b3 = w3/6.\n",
    "     \n",
    "    return jnp.asarray((a1, a2, a3, b1, b2, b3))\n"
   ]
  },
  {
   "cell_type": "code",
   "execution_count": 8,
   "metadata": {},
   "outputs": [],
   "source": [
    "@jax.jit\n",
    "def crwenoL_pre(u, xs, index):    \n",
    "    def u_slices(index, x):\n",
    "        def case_1(index, u): \n",
    "            return crwcL(jnp.asarray([u[-3], u[-2], u[0], u[1], u[2]]))\n",
    "        def case_2(index, u):\n",
    "            return crwcL(jnp.asarray([u[-2], u[0], u[1], u[2], u[3]]))\n",
    "        def case_N(index, u):\n",
    "            return crwcL(jnp.asarray([u[-4], u[-3], u[-2], u[-1], u[1]]))\n",
    "        def normal(index, u):\n",
    "            return crwcL(jax.lax.dynamic_slice_in_dim(u, index - 2, 5))\n",
    "        return jax.lax.switch(x, (normal, case_1, case_2, case_N), index, u)\n",
    "    \n",
    "    return u_slices(index, xs)\n",
    "\n",
    "@jax.jit\n",
    "def crwenoR_pre(u, xs, index):    \n",
    "    def u_slices(index, x):\n",
    "        def case_1(index, u):\n",
    "            return crwcR(jnp.asarray([u[-2], u[0], u[1], u[2], u[3]]))\n",
    "        def case_N(index, u):\n",
    "            return crwcR(jnp.asarray([u[-4], u[-3], u[-2], u[-1], u[1]]))\n",
    "        def case_N_p_1(index, u):\n",
    "            return crwcR(jnp.asarray([u[-3], u[-2], u[-1], u[1], u[2]]))\n",
    "        def normal(index, u):\n",
    "            return crwcR(jax.lax.dynamic_slice_in_dim(u, index - 1, 5))\n",
    "        return jax.lax.switch(x, (normal, case_1, case_N, case_N_p_1), index, u)\n",
    "    \n",
    "    return u_slices(index, xs)"
   ]
  },
  {
   "cell_type": "code",
   "execution_count": 9,
   "metadata": {},
   "outputs": [],
   "source": [
    "crwenoL_pre_mapped = jax.vmap(crwenoL_pre, in_axes=(None, 0, 0), out_axes=1)\n",
    "crwenoR_pre_mapped = jax.vmap(crwenoR_pre, in_axes=(None, 0, 0), out_axes=1)"
   ]
  },
  {
   "cell_type": "code",
   "execution_count": 10,
   "metadata": {},
   "outputs": [],
   "source": [
    "@jax.jit\n",
    "def crwenoL(u, xsL, u_index_arr, periodic_index_arr, empty_row):\n",
    "\n",
    "    coeff_slices = crwenoL_pre_mapped(u, xsL, u_index_arr)\n",
    "    a1, a2, a3, b1, b2, b3 = coeff_slices\n",
    "    \n",
    "    row_size = empty_row.size \n",
    "\n",
    "    def filling_A(loc_index, empty_row):\n",
    "        a1_loc, a2_loc, a3_loc = loc_index % row_size, (loc_index + 1) % row_size, (loc_index + 2) % row_size \n",
    "        return empty_row.at[jnp.asarray([a1_loc, a2_loc, a3_loc])].set((a1[a2_loc], a2[a2_loc], a3[a2_loc]))\n",
    "          \n",
    "    A = jax.vmap(filling_A, in_axes=(0, None))(periodic_index_arr, empty_row)\n",
    "    \n",
    "    b = empty_row.at[0].set(b1[0] * u[-2] + b2[0] * u[0] + b3[0] * u[1])\n",
    "    b = b.at[1:].set(jax.lax.slice_in_dim(b1, 1, None) * jax.lax.slice_in_dim(u, 0, -2) + jax.lax.slice_in_dim(b2, 1, None) * jax.lax.slice_in_dim(u, 1, -1) + jax.lax.slice_in_dim(b3, 1, None) * jax.lax.slice_in_dim(u, 2, None))\n",
    "    \n",
    "    return jax.scipy.linalg.solve(A, b)\n",
    "\n",
    "@jax.jit\n",
    "def crwenoR(u, xsR, u_index_arr, periodic_index_arr, empty_row):\n",
    "\n",
    "    coeff_slices = crwenoR_pre_mapped(u, xsR, u_index_arr)\n",
    "    a1, a2, a3, b1, b2, b3 = coeff_slices\n",
    "    \n",
    "    row_size = empty_row.size \n",
    "    \n",
    "    def filling_A(loc_index, empty_row):\n",
    "            a1_loc, a2_loc, a3_loc = loc_index % row_size, (loc_index + 1) % row_size, (loc_index + 2) % row_size \n",
    "            return empty_row.at[jnp.asarray([a1_loc, a2_loc, a3_loc])].set((a1[a2_loc], a2[a2_loc], a3[a2_loc]))\n",
    "             \n",
    "    A = jax.vmap(filling_A, in_axes=(0, None))(periodic_index_arr, empty_row)\n",
    "    \n",
    "    b = empty_row.at[-1].set(b1[-1] * u[-2] + b2[-1] * u[-1] + b3[-1] * u[1])\n",
    "    b = b.at[0:-1].set(jax.lax.slice_in_dim(b1, 0, -1) * jax.lax.slice_in_dim(u, 0, -2) + jax.lax.slice_in_dim(b2, 0, -1) * jax.lax.slice_in_dim(u, 1, -1) + jax.lax.slice_in_dim(b3, 0, -1) * jax.lax.slice_in_dim(u, 2, None))\n",
    "    \n",
    "    return jax.scipy.linalg.solve(A, b)"
   ]
  },
  {
   "cell_type": "code",
   "execution_count": 11,
   "metadata": {},
   "outputs": [],
   "source": [
    "@jax.jit\n",
    "def rhs(u, beta, xsL, xsR, u_index_arr, periodic_index_arr, empty_row):\n",
    "    uL = crwenoL(u, xsL, u_index_arr, periodic_index_arr, empty_row)\n",
    "    uR = crwenoR(u, xsR, u_index_arr, periodic_index_arr, empty_row)\n",
    "    \n",
    "    flux_L = -beta * jax.lax.slice_in_dim(u, 1, -1) * (jax.lax.slice_in_dim(uL, 1, None) - jax.lax.slice_in_dim(uL, 0, -1))\n",
    "    flux_R = -beta * jax.lax.slice_in_dim(u, 1, -1) * (jax.lax.slice_in_dim(uR, 1, None) - jax.lax.slice_in_dim(uR, 0, -1))\n",
    "    \n",
    "    def flux_L_at_each_step(u_i):\n",
    "        return jax.lax.cond(u_i >= 0.0, lambda: 1. , lambda: 0.)\n",
    "    \n",
    "    choose_flux_L = jax.vmap(flux_L_at_each_step)(u[1:-1])\n",
    "    choose_flux_R = 1. - choose_flux_L\n",
    "    \n",
    "    return choose_flux_L * flux_L + choose_flux_R * flux_R"
   ]
  },
  {
   "cell_type": "code",
   "execution_count": 12,
   "metadata": {},
   "outputs": [],
   "source": [
    "@partial(jax.jit, static_argnames=('NX', 'NT'))\n",
    "def crweno5_num_loop(u, beta, NX, NT):\n",
    "    \n",
    "    xsL = jnp.zeros(NX, dtype=jnp.int32)\n",
    "    xsL = xsL.at[jnp.asarray((0, 1, NX - 1))].set((1, 2, 3))\n",
    "    \n",
    "    xsR = jnp.zeros(NX, dtype=jnp.int32)\n",
    "    xsR = xsR.at[jnp.asarray((0, NX - 2, NX - 1))].set((1, 2, 3))\n",
    "    \n",
    "    u_index_arr = jnp.arange(0, NX, dtype=jnp.int32)\n",
    "    periodic_index_arr = jnp.arange(NX - 1, 2*NX - 1, dtype=jnp.int32)\n",
    "    empty_row = jnp.zeros(NX)    \n",
    "    \n",
    "    def u_each_time_step(u_i, _):\n",
    "        ## RK3 time integration\n",
    "        slice_x_1 = jax.lax.slice_in_dim(u_i, 1, NX)\n",
    "        u1 = jnp.zeros(NX + 1)\n",
    "        \n",
    "        r = rhs(u_i, beta, xsL, xsR, u_index_arr, periodic_index_arr, empty_row)\n",
    "        u1 = u1.at[1:NX].set(slice_x_1 + r)\n",
    "\n",
    "        r = r.at[:].set(rhs(u1, beta, xsL, xsR, u_index_arr, periodic_index_arr, empty_row))\n",
    "        u1 = u1.at[1:NX].set(0.75*slice_x_1 + 0.25*(jax.lax.slice_in_dim(u1, 1, NX) + r))\n",
    "\n",
    "        r = r.at[:].set(rhs(u1, beta, xsL, xsR, u_index_arr, periodic_index_arr, empty_row))\n",
    "        u_i = u_i.at[1:NX].set((1./3.)*slice_x_1 + (2./3.)*(jax.lax.slice_in_dim(u1, 1, NX) + r))\n",
    "        #u_i = u_i.at[bc].set(0)\n",
    "        \n",
    "        return u_i, u_i\n",
    "    \n",
    "    return jax.lax.scan(u_each_time_step, u, None, NT)\n",
    "    "
   ]
  },
  {
   "cell_type": "code",
   "execution_count": 13,
   "metadata": {},
   "outputs": [],
   "source": [
    "_, U = crweno5_num_loop(u, beta, NX, NT)"
   ]
  },
  {
   "cell_type": "code",
   "execution_count": 14,
   "metadata": {},
   "outputs": [
    {
     "data": {
      "image/png": "[encoded data removed]",
      "text/plain": [
       "<Figure size 600x600 with 1 Axes>"
      ]
     },
     "metadata": {},
     "output_type": "display_data"
    }
   ],
   "source": [
    "plt.figure(figsize=(6,6))\n",
    "plt.xlabel(\"x\")\n",
    "plt.ylabel(\"u\")\n",
    "plt.xlim((0,1))\n",
    "plt.ylim((-3,3))\n",
    "#plt.title(\"Comparison of theoritical and numerical values @ t = 1\")\n",
    "for i in range(0, NT + 500, 500):    \n",
    "    plt.plot(x, U[i], label=f't={(i*dt):2.2f}')\n",
    "plt.legend()\n",
    "plt.show()"
   ]
  }
 ],
 "metadata": {
  "kernelspec": {
   "display_name": "jaxenv",
   "language": "python",
   "name": "python3"
  },
  "language_info": {
   "codemirror_mode": {
    "name": "ipython",
    "version": 3
   },
   "file_extension": ".py",
   "mimetype": "text/x-python",
   "name": "python",
   "nbconvert_exporter": "python",
   "pygments_lexer": "ipython3",
   "version": "3.10.9"
  },
  "orig_nbformat": 4
 },
 "nbformat": 4,
 "nbformat_minor": 2
}
